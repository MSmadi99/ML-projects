{
 "cells": [
  {
   "cell_type": "markdown",
   "id": "a994615d-69be-4e29-9bff-7e09a02b39bf",
   "metadata": {},
   "source": [
    "# Prostate cancer prediction using machine learning\n"
   ]
  },
  {
   "cell_type": "markdown",
   "id": "a2d203ef-8d3d-4d93-bc97-f64e519348a5",
   "metadata": {},
   "source": [
    "### Importing libraries and loading the dataset"
   ]
  },
  {
   "cell_type": "code",
   "execution_count": 7,
   "id": "cdf1b42e-704e-48e1-8995-648b06a4a1b4",
   "metadata": {},
   "outputs": [],
   "source": [
    "import numpy as np\n",
    "import pandas as pd\n",
    "import matplotlib.pyplot as plt\n",
    "import seaborn as sns\n",
    "from sklearn.preprocessing import MinMaxScaler\n",
    "from sklearn.model_selection import train_test_split\n",
    "from tensorflow.keras.models import Sequential\n",
    "from tensorflow.keras.layers import Dense\n",
    "from sklearn.metrics import accuracy_score"
   ]
  },
  {
   "cell_type": "code",
   "execution_count": 11,
   "id": "12d5b301-ff85-4151-9044-254a4f85da40",
   "metadata": {},
   "outputs": [
    {
     "data": {
      "text/html": [
       "<div>\n",
       "<style scoped>\n",
       "    .dataframe tbody tr th:only-of-type {\n",
       "        vertical-align: middle;\n",
       "    }\n",
       "\n",
       "    .dataframe tbody tr th {\n",
       "        vertical-align: top;\n",
       "    }\n",
       "\n",
       "    .dataframe thead th {\n",
       "        text-align: right;\n",
       "    }\n",
       "</style>\n",
       "<table border=\"1\" class=\"dataframe\">\n",
       "  <thead>\n",
       "    <tr style=\"text-align: right;\">\n",
       "      <th></th>\n",
       "      <th>Diagnosis_Result</th>\n",
       "      <th>Radius</th>\n",
       "      <th>Texture</th>\n",
       "      <th>Perimeter</th>\n",
       "      <th>Area</th>\n",
       "      <th>Smoothness</th>\n",
       "      <th>Compactness</th>\n",
       "      <th>Symmetry</th>\n",
       "      <th>Fractal_Dimension</th>\n",
       "    </tr>\n",
       "  </thead>\n",
       "  <tbody>\n",
       "    <tr>\n",
       "      <th>0</th>\n",
       "      <td>M</td>\n",
       "      <td>23</td>\n",
       "      <td>12</td>\n",
       "      <td>151</td>\n",
       "      <td>954</td>\n",
       "      <td>0.143</td>\n",
       "      <td>0.278</td>\n",
       "      <td>0.242</td>\n",
       "      <td>0.079</td>\n",
       "    </tr>\n",
       "    <tr>\n",
       "      <th>1</th>\n",
       "      <td>B</td>\n",
       "      <td>9</td>\n",
       "      <td>13</td>\n",
       "      <td>133</td>\n",
       "      <td>1326</td>\n",
       "      <td>0.143</td>\n",
       "      <td>0.079</td>\n",
       "      <td>0.181</td>\n",
       "      <td>0.057</td>\n",
       "    </tr>\n",
       "    <tr>\n",
       "      <th>2</th>\n",
       "      <td>M</td>\n",
       "      <td>21</td>\n",
       "      <td>27</td>\n",
       "      <td>130</td>\n",
       "      <td>1203</td>\n",
       "      <td>0.125</td>\n",
       "      <td>0.160</td>\n",
       "      <td>0.207</td>\n",
       "      <td>0.060</td>\n",
       "    </tr>\n",
       "    <tr>\n",
       "      <th>3</th>\n",
       "      <td>M</td>\n",
       "      <td>14</td>\n",
       "      <td>16</td>\n",
       "      <td>78</td>\n",
       "      <td>386</td>\n",
       "      <td>0.070</td>\n",
       "      <td>0.284</td>\n",
       "      <td>0.260</td>\n",
       "      <td>0.097</td>\n",
       "    </tr>\n",
       "    <tr>\n",
       "      <th>4</th>\n",
       "      <td>M</td>\n",
       "      <td>9</td>\n",
       "      <td>19</td>\n",
       "      <td>135</td>\n",
       "      <td>1297</td>\n",
       "      <td>0.141</td>\n",
       "      <td>0.133</td>\n",
       "      <td>0.181</td>\n",
       "      <td>0.059</td>\n",
       "    </tr>\n",
       "  </tbody>\n",
       "</table>\n",
       "</div>"
      ],
      "text/plain": [
       "  Diagnosis_Result  Radius  Texture  Perimeter  Area  Smoothness  Compactness  \\\n",
       "0                M      23       12        151   954       0.143        0.278   \n",
       "1                B       9       13        133  1326       0.143        0.079   \n",
       "2                M      21       27        130  1203       0.125        0.160   \n",
       "3                M      14       16         78   386       0.070        0.284   \n",
       "4                M       9       19        135  1297       0.141        0.133   \n",
       "\n",
       "   Symmetry  Fractal_Dimension  \n",
       "0     0.242              0.079  \n",
       "1     0.181              0.057  \n",
       "2     0.207              0.060  \n",
       "3     0.260              0.097  \n",
       "4     0.181              0.059  "
      ]
     },
     "execution_count": 11,
     "metadata": {},
     "output_type": "execute_result"
    }
   ],
   "source": [
    "df = pd.read_csv('Prostate_Cancer.csv')\n",
    "df.drop(columns='id', inplace=True)\n",
    "df.columns = df.columns.str.capitalize()\n",
    "df.columns = df.columns.str.replace('_', ' ').str.title().str.replace(' ', '_')\n",
    "df.head()"
   ]
  },
  {
   "cell_type": "markdown",
   "id": "67ad48d3-1650-4f21-9ecd-699fcdb03036",
   "metadata": {},
   "source": [
    "### Dataset Overview"
   ]
  },
  {
   "cell_type": "code",
   "execution_count": 12,
   "id": "c2356cb4-121f-49b1-b8a3-f96c0e5e4922",
   "metadata": {},
   "outputs": [
    {
     "data": {
      "text/plain": [
       "(100, 9)"
      ]
     },
     "execution_count": 12,
     "metadata": {},
     "output_type": "execute_result"
    }
   ],
   "source": [
    "df.shape"
   ]
  },
  {
   "cell_type": "code",
   "execution_count": 13,
   "id": "5119846f-bc87-4364-a80d-e70ddc72da1e",
   "metadata": {},
   "outputs": [
    {
     "data": {
      "text/plain": [
       "Diagnosis_Result     0\n",
       "Radius               0\n",
       "Texture              0\n",
       "Perimeter            0\n",
       "Area                 0\n",
       "Smoothness           0\n",
       "Compactness          0\n",
       "Symmetry             0\n",
       "Fractal_Dimension    0\n",
       "dtype: int64"
      ]
     },
     "execution_count": 13,
     "metadata": {},
     "output_type": "execute_result"
    }
   ],
   "source": [
    "df.isnull().sum()"
   ]
  },
  {
   "cell_type": "code",
   "execution_count": 14,
   "id": "8c30238d-abc9-428c-8bb0-d97dfb22aa8f",
   "metadata": {},
   "outputs": [
    {
     "name": "stdout",
     "output_type": "stream",
     "text": [
      "<class 'pandas.core.frame.DataFrame'>\n",
      "RangeIndex: 100 entries, 0 to 99\n",
      "Data columns (total 9 columns):\n",
      " #   Column             Non-Null Count  Dtype  \n",
      "---  ------             --------------  -----  \n",
      " 0   Diagnosis_Result   100 non-null    object \n",
      " 1   Radius             100 non-null    int64  \n",
      " 2   Texture            100 non-null    int64  \n",
      " 3   Perimeter          100 non-null    int64  \n",
      " 4   Area               100 non-null    int64  \n",
      " 5   Smoothness         100 non-null    float64\n",
      " 6   Compactness        100 non-null    float64\n",
      " 7   Symmetry           100 non-null    float64\n",
      " 8   Fractal_Dimension  100 non-null    float64\n",
      "dtypes: float64(4), int64(4), object(1)\n",
      "memory usage: 7.2+ KB\n"
     ]
    }
   ],
   "source": [
    "df.info()"
   ]
  },
  {
   "cell_type": "code",
   "execution_count": 15,
   "id": "db6879d9-6001-4bcc-885b-c9174ad2f070",
   "metadata": {},
   "outputs": [
    {
     "data": {
      "text/html": [
       "<div>\n",
       "<style scoped>\n",
       "    .dataframe tbody tr th:only-of-type {\n",
       "        vertical-align: middle;\n",
       "    }\n",
       "\n",
       "    .dataframe tbody tr th {\n",
       "        vertical-align: top;\n",
       "    }\n",
       "\n",
       "    .dataframe thead th {\n",
       "        text-align: right;\n",
       "    }\n",
       "</style>\n",
       "<table border=\"1\" class=\"dataframe\">\n",
       "  <thead>\n",
       "    <tr style=\"text-align: right;\">\n",
       "      <th></th>\n",
       "      <th>Radius</th>\n",
       "      <th>Texture</th>\n",
       "      <th>Perimeter</th>\n",
       "      <th>Area</th>\n",
       "      <th>Smoothness</th>\n",
       "      <th>Compactness</th>\n",
       "      <th>Symmetry</th>\n",
       "      <th>Fractal_Dimension</th>\n",
       "    </tr>\n",
       "  </thead>\n",
       "  <tbody>\n",
       "    <tr>\n",
       "      <th>count</th>\n",
       "      <td>100.000000</td>\n",
       "      <td>100.000000</td>\n",
       "      <td>100.000000</td>\n",
       "      <td>100.000000</td>\n",
       "      <td>100.000000</td>\n",
       "      <td>100.000000</td>\n",
       "      <td>100.000000</td>\n",
       "      <td>100.000000</td>\n",
       "    </tr>\n",
       "    <tr>\n",
       "      <th>mean</th>\n",
       "      <td>16.850000</td>\n",
       "      <td>18.230000</td>\n",
       "      <td>96.780000</td>\n",
       "      <td>702.880000</td>\n",
       "      <td>0.102730</td>\n",
       "      <td>0.126700</td>\n",
       "      <td>0.193170</td>\n",
       "      <td>0.064690</td>\n",
       "    </tr>\n",
       "    <tr>\n",
       "      <th>std</th>\n",
       "      <td>4.879094</td>\n",
       "      <td>5.192954</td>\n",
       "      <td>23.676089</td>\n",
       "      <td>319.710895</td>\n",
       "      <td>0.014642</td>\n",
       "      <td>0.061144</td>\n",
       "      <td>0.030785</td>\n",
       "      <td>0.008151</td>\n",
       "    </tr>\n",
       "    <tr>\n",
       "      <th>min</th>\n",
       "      <td>9.000000</td>\n",
       "      <td>11.000000</td>\n",
       "      <td>52.000000</td>\n",
       "      <td>202.000000</td>\n",
       "      <td>0.070000</td>\n",
       "      <td>0.038000</td>\n",
       "      <td>0.135000</td>\n",
       "      <td>0.053000</td>\n",
       "    </tr>\n",
       "    <tr>\n",
       "      <th>25%</th>\n",
       "      <td>12.000000</td>\n",
       "      <td>14.000000</td>\n",
       "      <td>82.500000</td>\n",
       "      <td>476.750000</td>\n",
       "      <td>0.093500</td>\n",
       "      <td>0.080500</td>\n",
       "      <td>0.172000</td>\n",
       "      <td>0.059000</td>\n",
       "    </tr>\n",
       "    <tr>\n",
       "      <th>50%</th>\n",
       "      <td>17.000000</td>\n",
       "      <td>17.500000</td>\n",
       "      <td>94.000000</td>\n",
       "      <td>644.000000</td>\n",
       "      <td>0.102000</td>\n",
       "      <td>0.118500</td>\n",
       "      <td>0.190000</td>\n",
       "      <td>0.063000</td>\n",
       "    </tr>\n",
       "    <tr>\n",
       "      <th>75%</th>\n",
       "      <td>21.000000</td>\n",
       "      <td>22.250000</td>\n",
       "      <td>114.250000</td>\n",
       "      <td>917.000000</td>\n",
       "      <td>0.112000</td>\n",
       "      <td>0.157000</td>\n",
       "      <td>0.209000</td>\n",
       "      <td>0.069000</td>\n",
       "    </tr>\n",
       "    <tr>\n",
       "      <th>max</th>\n",
       "      <td>25.000000</td>\n",
       "      <td>27.000000</td>\n",
       "      <td>172.000000</td>\n",
       "      <td>1878.000000</td>\n",
       "      <td>0.143000</td>\n",
       "      <td>0.345000</td>\n",
       "      <td>0.304000</td>\n",
       "      <td>0.097000</td>\n",
       "    </tr>\n",
       "  </tbody>\n",
       "</table>\n",
       "</div>"
      ],
      "text/plain": [
       "           Radius     Texture   Perimeter         Area  Smoothness  \\\n",
       "count  100.000000  100.000000  100.000000   100.000000  100.000000   \n",
       "mean    16.850000   18.230000   96.780000   702.880000    0.102730   \n",
       "std      4.879094    5.192954   23.676089   319.710895    0.014642   \n",
       "min      9.000000   11.000000   52.000000   202.000000    0.070000   \n",
       "25%     12.000000   14.000000   82.500000   476.750000    0.093500   \n",
       "50%     17.000000   17.500000   94.000000   644.000000    0.102000   \n",
       "75%     21.000000   22.250000  114.250000   917.000000    0.112000   \n",
       "max     25.000000   27.000000  172.000000  1878.000000    0.143000   \n",
       "\n",
       "       Compactness    Symmetry  Fractal_Dimension  \n",
       "count   100.000000  100.000000         100.000000  \n",
       "mean      0.126700    0.193170           0.064690  \n",
       "std       0.061144    0.030785           0.008151  \n",
       "min       0.038000    0.135000           0.053000  \n",
       "25%       0.080500    0.172000           0.059000  \n",
       "50%       0.118500    0.190000           0.063000  \n",
       "75%       0.157000    0.209000           0.069000  \n",
       "max       0.345000    0.304000           0.097000  "
      ]
     },
     "execution_count": 15,
     "metadata": {},
     "output_type": "execute_result"
    }
   ],
   "source": [
    "df.describe()"
   ]
  },
  {
   "cell_type": "markdown",
   "id": "3924e6ed-f085-4acd-9cd3-982df1cffda1",
   "metadata": {},
   "source": [
    "### Converting the Diagnosis_Result column from an object to a numerical column\n",
    "Diagnosis_Result is the most important column for us. Because we will classify the data based on this column."
   ]
  },
  {
   "cell_type": "code",
   "execution_count": 16,
   "id": "9bcb7fdd-1106-4530-bafe-fecd0d844b68",
   "metadata": {},
   "outputs": [
    {
     "data": {
      "text/plain": [
       "Diagnosis_Result\n",
       "M    62\n",
       "B    38\n",
       "Name: count, dtype: int64"
      ]
     },
     "execution_count": 16,
     "metadata": {},
     "output_type": "execute_result"
    }
   ],
   "source": [
    "df['Diagnosis_Result'].value_counts()"
   ]
  },
  {
   "cell_type": "code",
   "execution_count": 17,
   "id": "d0fc4645-37f8-4bf5-8c21-f4a96da792bc",
   "metadata": {},
   "outputs": [
    {
     "data": {
      "text/plain": [
       "Diagnosis_Result\n",
       "1    62\n",
       "0    38\n",
       "Name: count, dtype: int64"
      ]
     },
     "execution_count": 17,
     "metadata": {},
     "output_type": "execute_result"
    }
   ],
   "source": [
    "df['Diagnosis_Result'] = df['Diagnosis_Result'].map({'M': 1, 'B': 0})\n",
    "df['Diagnosis_Result'].value_counts()"
   ]
  },
  {
   "cell_type": "code",
   "execution_count": 21,
   "id": "7a0bdc23-f943-429c-8568-04263ae2373f",
   "metadata": {},
   "outputs": [
    {
     "data": {
      "image/png": "[encoded data removed]",
      "text/plain": [
       "<Figure size 1000x800 with 1 Axes>"
      ]
     },
     "metadata": {},
     "output_type": "display_data"
    }
   ],
   "source": [
    "plt.figure(figsize=(10,8))\n",
    "\n",
    "value_counts = df['Diagnosis_Result'].value_counts()\n",
    "\n",
    "# value_counts.index: This provides the x-axis values for the bars, which are the unique values in the 'Diagnosis_Result' column.\n",
    "plt.bar(value_counts.index, value_counts, color=['b', 'r'])\n",
    "plt.title('Diagnosis Result')\n",
    "plt.show()"
   ]
  },
  {
   "cell_type": "code",
   "execution_count": 22,
   "id": "572f0fee-059c-403f-a7fb-280b60c5b66a",
   "metadata": {},
   "outputs": [],
   "source": [
    "x = df.drop(columns='Diagnosis_Result')\n",
    "y = df['Diagnosis_Result'].values\n",
    "\n",
    "scaler = MinMaxScaler(feature_range=(0,1))\n",
    "\n",
    "X = scaler.fit_transform(x)\n",
    "\n",
    "X_train, X_test, y_train, y_test = train_test_split(X, y, test_size=0.2, random_state=42)\n",
    "\n",
    "method_names=[]\n",
    "method_scores=[]"
   ]
  },
  {
   "cell_type": "code",
   "execution_count": 23,
   "id": "d1ad1f00-ba8f-476a-821c-8981de4b4fc1",
   "metadata": {},
   "outputs": [
    {
     "name": "stdout",
     "output_type": "stream",
     "text": [
      "Model: \"sequential\"\n",
      "_________________________________________________________________\n",
      " Layer (type)                Output Shape              Param #   \n",
      "=================================================================\n",
      " dense (Dense)               (None, 32)                288       \n",
      "                                                                 \n",
      " dense_1 (Dense)             (None, 64)                2112      \n",
      "                                                                 \n",
      " dense_2 (Dense)             (None, 1)                 65        \n",
      "                                                                 \n",
      "=================================================================\n",
      "Total params: 2465 (9.63 KB)\n",
      "Trainable params: 2465 (9.63 KB)\n",
      "Non-trainable params: 0 (0.00 Byte)\n",
      "_________________________________________________________________\n"
     ]
    }
   ],
   "source": [
    "model = Sequential()\n",
    "model.add(Dense(32,activation = 'relu', input_dim = X_train.shape[1]))\n",
    "model.add(Dense(64,activation = 'relu'))\n",
    "model.add(Dense(1,activation = 'sigmoid'))\n",
    "model.summary()"
   ]
  },
  {
   "cell_type": "code",
   "execution_count": 24,
   "id": "3ab5071b-3658-489a-bef1-7f37ba12a298",
   "metadata": {},
   "outputs": [
    {
     "name": "stdout",
     "output_type": "stream",
     "text": [
      "Epoch 1/120\n",
      "3/3 [==============================] - 1s 109ms/step - loss: 0.6888 - accuracy: 0.5875 - val_loss: 0.6234 - val_accuracy: 0.8000\n",
      "Epoch 2/120\n",
      "3/3 [==============================] - 0s 17ms/step - loss: 0.6768 - accuracy: 0.5750 - val_loss: 0.6002 - val_accuracy: 0.8000\n",
      "Epoch 3/120\n",
      "3/3 [==============================] - 0s 21ms/step - loss: 0.6664 - accuracy: 0.5750 - val_loss: 0.5827 - val_accuracy: 0.8000\n",
      "Epoch 4/120\n",
      "3/3 [==============================] - 0s 14ms/step - loss: 0.6577 - accuracy: 0.5750 - val_loss: 0.5688 - val_accuracy: 0.8000\n",
      "Epoch 5/120\n",
      "3/3 [==============================] - 0s 16ms/step - loss: 0.6503 - accuracy: 0.5750 - val_loss: 0.5566 - val_accuracy: 0.8000\n",
      "Epoch 6/120\n",
      "3/3 [==============================] - 0s 15ms/step - loss: 0.6448 - accuracy: 0.5750 - val_loss: 0.5466 - val_accuracy: 0.8000\n",
      "Epoch 7/120\n",
      "3/3 [==============================] - 0s 21ms/step - loss: 0.6370 - accuracy: 0.5750 - val_loss: 0.5430 - val_accuracy: 0.8000\n",
      "Epoch 8/120\n",
      "3/3 [==============================] - 0s 17ms/step - loss: 0.6301 - accuracy: 0.5750 - val_loss: 0.5384 - val_accuracy: 0.8000\n",
      "Epoch 9/120\n",
      "3/3 [==============================] - 0s 18ms/step - loss: 0.6240 - accuracy: 0.5750 - val_loss: 0.5368 - val_accuracy: 0.8000\n",
      "Epoch 10/120\n",
      "3/3 [==============================] - 0s 17ms/step - loss: 0.6169 - accuracy: 0.5750 - val_loss: 0.5311 - val_accuracy: 0.8000\n",
      "Epoch 11/120\n",
      "3/3 [==============================] - 0s 14ms/step - loss: 0.6098 - accuracy: 0.5750 - val_loss: 0.5261 - val_accuracy: 0.8000\n",
      "Epoch 12/120\n",
      "3/3 [==============================] - 0s 17ms/step - loss: 0.6042 - accuracy: 0.5750 - val_loss: 0.5204 - val_accuracy: 0.8000\n",
      "Epoch 13/120\n",
      "3/3 [==============================] - 0s 16ms/step - loss: 0.5970 - accuracy: 0.5875 - val_loss: 0.5213 - val_accuracy: 0.8000\n",
      "Epoch 14/120\n",
      "3/3 [==============================] - 0s 16ms/step - loss: 0.5889 - accuracy: 0.6250 - val_loss: 0.5194 - val_accuracy: 0.8000\n",
      "Epoch 15/120\n",
      "3/3 [==============================] - 0s 20ms/step - loss: 0.5816 - accuracy: 0.6250 - val_loss: 0.5185 - val_accuracy: 0.8000\n",
      "Epoch 16/120\n",
      "3/3 [==============================] - 0s 22ms/step - loss: 0.5738 - accuracy: 0.6625 - val_loss: 0.5157 - val_accuracy: 0.8000\n",
      "Epoch 17/120\n",
      "3/3 [==============================] - 0s 15ms/step - loss: 0.5659 - accuracy: 0.7125 - val_loss: 0.5121 - val_accuracy: 0.8000\n",
      "Epoch 18/120\n",
      "3/3 [==============================] - 0s 15ms/step - loss: 0.5566 - accuracy: 0.7375 - val_loss: 0.5064 - val_accuracy: 0.8000\n",
      "Epoch 19/120\n",
      "3/3 [==============================] - 0s 16ms/step - loss: 0.5469 - accuracy: 0.7625 - val_loss: 0.4999 - val_accuracy: 0.8000\n",
      "Epoch 20/120\n",
      "3/3 [==============================] - 0s 17ms/step - loss: 0.5382 - accuracy: 0.7750 - val_loss: 0.4938 - val_accuracy: 0.8000\n",
      "Epoch 21/120\n",
      "3/3 [==============================] - 0s 16ms/step - loss: 0.5283 - accuracy: 0.7750 - val_loss: 0.4879 - val_accuracy: 0.8000\n",
      "Epoch 22/120\n",
      "3/3 [==============================] - 0s 18ms/step - loss: 0.5195 - accuracy: 0.7875 - val_loss: 0.4826 - val_accuracy: 0.8000\n",
      "Epoch 23/120\n",
      "3/3 [==============================] - 0s 15ms/step - loss: 0.5104 - accuracy: 0.8000 - val_loss: 0.4780 - val_accuracy: 0.8000\n",
      "Epoch 24/120\n",
      "3/3 [==============================] - 0s 15ms/step - loss: 0.5005 - accuracy: 0.8000 - val_loss: 0.4777 - val_accuracy: 0.8000\n",
      "Epoch 25/120\n",
      "3/3 [==============================] - 0s 16ms/step - loss: 0.4907 - accuracy: 0.8000 - val_loss: 0.4816 - val_accuracy: 0.8000\n",
      "Epoch 26/120\n",
      "3/3 [==============================] - 0s 16ms/step - loss: 0.4815 - accuracy: 0.8625 - val_loss: 0.4828 - val_accuracy: 0.7500\n",
      "Epoch 27/120\n",
      "3/3 [==============================] - 0s 19ms/step - loss: 0.4717 - accuracy: 0.8625 - val_loss: 0.4813 - val_accuracy: 0.7500\n",
      "Epoch 28/120\n",
      "3/3 [==============================] - 0s 18ms/step - loss: 0.4628 - accuracy: 0.8750 - val_loss: 0.4797 - val_accuracy: 0.7500\n",
      "Epoch 29/120\n",
      "3/3 [==============================] - 0s 13ms/step - loss: 0.4538 - accuracy: 0.8750 - val_loss: 0.4772 - val_accuracy: 0.8000\n",
      "Epoch 30/120\n",
      "3/3 [==============================] - 0s 16ms/step - loss: 0.4448 - accuracy: 0.8750 - val_loss: 0.4751 - val_accuracy: 0.8000\n",
      "Epoch 31/120\n",
      "3/3 [==============================] - 0s 15ms/step - loss: 0.4356 - accuracy: 0.8750 - val_loss: 0.4754 - val_accuracy: 0.8000\n",
      "Epoch 32/120\n",
      "3/3 [==============================] - 0s 14ms/step - loss: 0.4265 - accuracy: 0.8750 - val_loss: 0.4755 - val_accuracy: 0.8000\n",
      "Epoch 33/120\n",
      "3/3 [==============================] - 0s 16ms/step - loss: 0.4188 - accuracy: 0.8750 - val_loss: 0.4758 - val_accuracy: 0.8000\n",
      "Epoch 34/120\n",
      "3/3 [==============================] - 0s 13ms/step - loss: 0.4096 - accuracy: 0.8750 - val_loss: 0.4741 - val_accuracy: 0.8000\n",
      "Epoch 35/120\n",
      "3/3 [==============================] - 0s 24ms/step - loss: 0.4018 - accuracy: 0.8750 - val_loss: 0.4747 - val_accuracy: 0.8000\n",
      "Epoch 36/120\n",
      "3/3 [==============================] - 0s 18ms/step - loss: 0.3942 - accuracy: 0.8750 - val_loss: 0.4764 - val_accuracy: 0.8000\n",
      "Epoch 37/120\n",
      "3/3 [==============================] - 0s 18ms/step - loss: 0.3878 - accuracy: 0.8750 - val_loss: 0.4770 - val_accuracy: 0.8000\n",
      "Epoch 38/120\n",
      "3/3 [==============================] - 0s 19ms/step - loss: 0.3799 - accuracy: 0.8750 - val_loss: 0.4813 - val_accuracy: 0.8000\n",
      "Epoch 39/120\n",
      "3/3 [==============================] - 0s 15ms/step - loss: 0.3739 - accuracy: 0.8625 - val_loss: 0.4877 - val_accuracy: 0.7500\n",
      "Epoch 40/120\n",
      "3/3 [==============================] - 0s 14ms/step - loss: 0.3685 - accuracy: 0.8625 - val_loss: 0.4919 - val_accuracy: 0.7500\n",
      "Epoch 41/120\n",
      "3/3 [==============================] - 0s 17ms/step - loss: 0.3616 - accuracy: 0.8750 - val_loss: 0.4943 - val_accuracy: 0.7500\n",
      "Epoch 42/120\n",
      "3/3 [==============================] - 0s 11ms/step - loss: 0.3568 - accuracy: 0.8750 - val_loss: 0.4946 - val_accuracy: 0.7500\n",
      "Epoch 43/120\n",
      "3/3 [==============================] - 0s 17ms/step - loss: 0.3515 - accuracy: 0.8750 - val_loss: 0.4913 - val_accuracy: 0.8000\n",
      "Epoch 44/120\n",
      "3/3 [==============================] - 0s 12ms/step - loss: 0.3467 - accuracy: 0.8750 - val_loss: 0.4920 - val_accuracy: 0.8000\n",
      "Epoch 45/120\n",
      "3/3 [==============================] - 0s 16ms/step - loss: 0.3427 - accuracy: 0.8750 - val_loss: 0.4951 - val_accuracy: 0.8000\n",
      "Epoch 46/120\n",
      "3/3 [==============================] - 0s 16ms/step - loss: 0.3386 - accuracy: 0.8875 - val_loss: 0.4987 - val_accuracy: 0.8000\n",
      "Epoch 47/120\n",
      "3/3 [==============================] - 0s 16ms/step - loss: 0.3348 - accuracy: 0.8750 - val_loss: 0.5079 - val_accuracy: 0.7500\n",
      "Epoch 48/120\n",
      "3/3 [==============================] - 0s 20ms/step - loss: 0.3301 - accuracy: 0.8875 - val_loss: 0.5152 - val_accuracy: 0.7500\n",
      "Epoch 49/120\n",
      "3/3 [==============================] - 0s 13ms/step - loss: 0.3269 - accuracy: 0.8875 - val_loss: 0.5164 - val_accuracy: 0.7500\n",
      "Epoch 50/120\n",
      "3/3 [==============================] - 0s 12ms/step - loss: 0.3233 - accuracy: 0.8875 - val_loss: 0.5155 - val_accuracy: 0.7500\n",
      "Epoch 51/120\n",
      "3/3 [==============================] - 0s 16ms/step - loss: 0.3199 - accuracy: 0.8875 - val_loss: 0.5136 - val_accuracy: 0.7500\n",
      "Epoch 52/120\n",
      "3/3 [==============================] - 0s 18ms/step - loss: 0.3158 - accuracy: 0.8875 - val_loss: 0.5132 - val_accuracy: 0.7500\n",
      "Epoch 53/120\n",
      "3/3 [==============================] - 0s 22ms/step - loss: 0.3133 - accuracy: 0.8875 - val_loss: 0.5134 - val_accuracy: 0.8000\n",
      "Epoch 54/120\n",
      "3/3 [==============================] - 0s 17ms/step - loss: 0.3100 - accuracy: 0.8875 - val_loss: 0.5139 - val_accuracy: 0.8000\n",
      "Epoch 55/120\n",
      "3/3 [==============================] - 0s 13ms/step - loss: 0.3090 - accuracy: 0.8875 - val_loss: 0.5152 - val_accuracy: 0.8000\n",
      "Epoch 56/120\n",
      "3/3 [==============================] - 0s 15ms/step - loss: 0.3069 - accuracy: 0.8875 - val_loss: 0.5172 - val_accuracy: 0.8000\n",
      "Epoch 57/120\n",
      "3/3 [==============================] - 0s 15ms/step - loss: 0.3034 - accuracy: 0.8875 - val_loss: 0.5184 - val_accuracy: 0.8000\n",
      "Epoch 58/120\n",
      "3/3 [==============================] - 0s 20ms/step - loss: 0.3012 - accuracy: 0.8875 - val_loss: 0.5201 - val_accuracy: 0.8000\n",
      "Epoch 59/120\n",
      "3/3 [==============================] - 0s 16ms/step - loss: 0.2983 - accuracy: 0.8875 - val_loss: 0.5212 - val_accuracy: 0.8000\n",
      "Epoch 60/120\n",
      "3/3 [==============================] - 0s 21ms/step - loss: 0.2958 - accuracy: 0.8875 - val_loss: 0.5221 - val_accuracy: 0.8000\n",
      "Epoch 61/120\n",
      "3/3 [==============================] - 0s 21ms/step - loss: 0.2928 - accuracy: 0.8875 - val_loss: 0.5237 - val_accuracy: 0.8000\n",
      "Epoch 62/120\n",
      "3/3 [==============================] - 0s 18ms/step - loss: 0.2927 - accuracy: 0.8875 - val_loss: 0.5264 - val_accuracy: 0.7500\n",
      "Epoch 63/120\n",
      "3/3 [==============================] - 0s 21ms/step - loss: 0.2891 - accuracy: 0.9000 - val_loss: 0.5250 - val_accuracy: 0.8000\n",
      "Epoch 64/120\n",
      "3/3 [==============================] - 0s 18ms/step - loss: 0.2856 - accuracy: 0.9000 - val_loss: 0.5229 - val_accuracy: 0.8000\n",
      "Epoch 65/120\n",
      "3/3 [==============================] - 0s 16ms/step - loss: 0.2852 - accuracy: 0.8875 - val_loss: 0.5227 - val_accuracy: 0.8000\n",
      "Epoch 66/120\n",
      "3/3 [==============================] - 0s 17ms/step - loss: 0.2861 - accuracy: 0.8750 - val_loss: 0.5238 - val_accuracy: 0.8500\n",
      "Epoch 67/120\n",
      "3/3 [==============================] - 0s 16ms/step - loss: 0.2853 - accuracy: 0.8750 - val_loss: 0.5246 - val_accuracy: 0.8000\n",
      "Epoch 68/120\n",
      "3/3 [==============================] - 0s 14ms/step - loss: 0.2818 - accuracy: 0.8750 - val_loss: 0.5257 - val_accuracy: 0.8000\n",
      "Epoch 69/120\n",
      "3/3 [==============================] - 0s 13ms/step - loss: 0.2800 - accuracy: 0.9000 - val_loss: 0.5295 - val_accuracy: 0.8000\n",
      "Epoch 70/120\n",
      "3/3 [==============================] - 0s 13ms/step - loss: 0.2757 - accuracy: 0.9000 - val_loss: 0.5327 - val_accuracy: 0.8000\n",
      "Epoch 71/120\n",
      "3/3 [==============================] - 0s 14ms/step - loss: 0.2754 - accuracy: 0.9000 - val_loss: 0.5357 - val_accuracy: 0.8000\n",
      "Epoch 72/120\n",
      "3/3 [==============================] - 0s 15ms/step - loss: 0.2736 - accuracy: 0.9000 - val_loss: 0.5359 - val_accuracy: 0.8500\n",
      "Epoch 73/120\n",
      "3/3 [==============================] - 0s 16ms/step - loss: 0.2713 - accuracy: 0.9000 - val_loss: 0.5353 - val_accuracy: 0.8000\n",
      "Epoch 74/120\n",
      "3/3 [==============================] - 0s 15ms/step - loss: 0.2732 - accuracy: 0.9000 - val_loss: 0.5337 - val_accuracy: 0.8000\n",
      "Epoch 75/120\n",
      "3/3 [==============================] - 0s 18ms/step - loss: 0.2685 - accuracy: 0.9000 - val_loss: 0.5349 - val_accuracy: 0.8000\n",
      "Epoch 76/120\n",
      "3/3 [==============================] - 0s 15ms/step - loss: 0.2663 - accuracy: 0.9000 - val_loss: 0.5364 - val_accuracy: 0.8500\n",
      "Epoch 77/120\n",
      "3/3 [==============================] - 0s 21ms/step - loss: 0.2660 - accuracy: 0.9000 - val_loss: 0.5381 - val_accuracy: 0.8500\n",
      "Epoch 78/120\n",
      "3/3 [==============================] - 0s 18ms/step - loss: 0.2641 - accuracy: 0.9000 - val_loss: 0.5380 - val_accuracy: 0.8500\n",
      "Epoch 79/120\n",
      "3/3 [==============================] - 0s 15ms/step - loss: 0.2630 - accuracy: 0.9000 - val_loss: 0.5386 - val_accuracy: 0.8500\n",
      "Epoch 80/120\n",
      "3/3 [==============================] - 0s 25ms/step - loss: 0.2619 - accuracy: 0.9000 - val_loss: 0.5403 - val_accuracy: 0.8500\n",
      "Epoch 81/120\n",
      "3/3 [==============================] - 0s 16ms/step - loss: 0.2608 - accuracy: 0.9000 - val_loss: 0.5415 - val_accuracy: 0.8500\n",
      "Epoch 82/120\n",
      "3/3 [==============================] - 0s 15ms/step - loss: 0.2599 - accuracy: 0.8875 - val_loss: 0.5427 - val_accuracy: 0.8500\n",
      "Epoch 83/120\n",
      "3/3 [==============================] - 0s 18ms/step - loss: 0.2587 - accuracy: 0.8875 - val_loss: 0.5444 - val_accuracy: 0.8500\n",
      "Epoch 84/120\n",
      "3/3 [==============================] - 0s 21ms/step - loss: 0.2584 - accuracy: 0.8875 - val_loss: 0.5465 - val_accuracy: 0.8500\n",
      "Epoch 85/120\n",
      "3/3 [==============================] - 0s 23ms/step - loss: 0.2561 - accuracy: 0.8875 - val_loss: 0.5479 - val_accuracy: 0.8500\n",
      "Epoch 86/120\n",
      "3/3 [==============================] - 0s 15ms/step - loss: 0.2557 - accuracy: 0.8875 - val_loss: 0.5489 - val_accuracy: 0.8500\n",
      "Epoch 87/120\n",
      "3/3 [==============================] - 0s 15ms/step - loss: 0.2540 - accuracy: 0.8875 - val_loss: 0.5506 - val_accuracy: 0.8500\n",
      "Epoch 88/120\n",
      "3/3 [==============================] - 0s 16ms/step - loss: 0.2547 - accuracy: 0.8875 - val_loss: 0.5522 - val_accuracy: 0.8500\n",
      "Epoch 89/120\n",
      "3/3 [==============================] - 0s 16ms/step - loss: 0.2528 - accuracy: 0.9125 - val_loss: 0.5551 - val_accuracy: 0.8500\n",
      "Epoch 90/120\n",
      "3/3 [==============================] - 0s 17ms/step - loss: 0.2515 - accuracy: 0.9125 - val_loss: 0.5566 - val_accuracy: 0.8500\n",
      "Epoch 91/120\n",
      "3/3 [==============================] - 0s 15ms/step - loss: 0.2506 - accuracy: 0.9125 - val_loss: 0.5573 - val_accuracy: 0.8500\n",
      "Epoch 92/120\n",
      "3/3 [==============================] - 0s 16ms/step - loss: 0.2519 - accuracy: 0.8875 - val_loss: 0.5580 - val_accuracy: 0.8500\n",
      "Epoch 93/120\n",
      "3/3 [==============================] - 0s 16ms/step - loss: 0.2491 - accuracy: 0.9000 - val_loss: 0.5595 - val_accuracy: 0.8500\n",
      "Epoch 94/120\n",
      "3/3 [==============================] - 0s 20ms/step - loss: 0.2483 - accuracy: 0.9000 - val_loss: 0.5612 - val_accuracy: 0.8500\n",
      "Epoch 95/120\n",
      "3/3 [==============================] - 0s 17ms/step - loss: 0.2494 - accuracy: 0.9000 - val_loss: 0.5650 - val_accuracy: 0.8500\n",
      "Epoch 96/120\n",
      "3/3 [==============================] - 0s 15ms/step - loss: 0.2474 - accuracy: 0.9125 - val_loss: 0.5666 - val_accuracy: 0.8500\n",
      "Epoch 97/120\n",
      "3/3 [==============================] - 0s 15ms/step - loss: 0.2479 - accuracy: 0.9125 - val_loss: 0.5707 - val_accuracy: 0.8500\n",
      "Epoch 98/120\n",
      "3/3 [==============================] - 0s 27ms/step - loss: 0.2472 - accuracy: 0.9125 - val_loss: 0.5701 - val_accuracy: 0.8500\n",
      "Epoch 99/120\n",
      "3/3 [==============================] - 0s 25ms/step - loss: 0.2467 - accuracy: 0.9250 - val_loss: 0.5696 - val_accuracy: 0.8500\n",
      "Epoch 100/120\n",
      "3/3 [==============================] - 0s 19ms/step - loss: 0.2441 - accuracy: 0.9000 - val_loss: 0.5712 - val_accuracy: 0.8500\n",
      "Epoch 101/120\n",
      "3/3 [==============================] - 0s 10ms/step - loss: 0.2436 - accuracy: 0.9125 - val_loss: 0.5717 - val_accuracy: 0.8500\n",
      "Epoch 102/120\n",
      "3/3 [==============================] - 0s 13ms/step - loss: 0.2431 - accuracy: 0.9000 - val_loss: 0.5732 - val_accuracy: 0.8500\n",
      "Epoch 103/120\n",
      "3/3 [==============================] - 0s 16ms/step - loss: 0.2425 - accuracy: 0.9000 - val_loss: 0.5751 - val_accuracy: 0.8500\n",
      "Epoch 104/120\n",
      "3/3 [==============================] - 0s 13ms/step - loss: 0.2415 - accuracy: 0.9000 - val_loss: 0.5770 - val_accuracy: 0.8500\n",
      "Epoch 105/120\n",
      "3/3 [==============================] - 0s 16ms/step - loss: 0.2414 - accuracy: 0.9000 - val_loss: 0.5802 - val_accuracy: 0.8500\n",
      "Epoch 106/120\n",
      "3/3 [==============================] - 0s 15ms/step - loss: 0.2413 - accuracy: 0.9125 - val_loss: 0.5830 - val_accuracy: 0.8500\n",
      "Epoch 107/120\n",
      "3/3 [==============================] - 0s 14ms/step - loss: 0.2405 - accuracy: 0.9250 - val_loss: 0.5838 - val_accuracy: 0.8500\n",
      "Epoch 108/120\n",
      "3/3 [==============================] - 0s 15ms/step - loss: 0.2403 - accuracy: 0.9125 - val_loss: 0.5846 - val_accuracy: 0.8500\n",
      "Epoch 109/120\n",
      "3/3 [==============================] - 0s 13ms/step - loss: 0.2392 - accuracy: 0.9125 - val_loss: 0.5848 - val_accuracy: 0.8500\n",
      "Epoch 110/120\n",
      "3/3 [==============================] - 0s 14ms/step - loss: 0.2405 - accuracy: 0.9125 - val_loss: 0.5853 - val_accuracy: 0.8500\n",
      "Epoch 111/120\n",
      "3/3 [==============================] - 0s 18ms/step - loss: 0.2383 - accuracy: 0.9000 - val_loss: 0.5870 - val_accuracy: 0.8500\n",
      "Epoch 112/120\n",
      "3/3 [==============================] - 0s 15ms/step - loss: 0.2382 - accuracy: 0.9000 - val_loss: 0.5885 - val_accuracy: 0.8500\n",
      "Epoch 113/120\n",
      "3/3 [==============================] - 0s 13ms/step - loss: 0.2371 - accuracy: 0.9000 - val_loss: 0.5910 - val_accuracy: 0.8500\n",
      "Epoch 114/120\n",
      "3/3 [==============================] - 0s 16ms/step - loss: 0.2389 - accuracy: 0.9000 - val_loss: 0.5951 - val_accuracy: 0.8500\n",
      "Epoch 115/120\n",
      "3/3 [==============================] - 0s 12ms/step - loss: 0.2365 - accuracy: 0.9250 - val_loss: 0.5959 - val_accuracy: 0.8500\n",
      "Epoch 116/120\n",
      "3/3 [==============================] - 0s 16ms/step - loss: 0.2360 - accuracy: 0.9125 - val_loss: 0.5952 - val_accuracy: 0.8500\n",
      "Epoch 117/120\n",
      "3/3 [==============================] - 0s 15ms/step - loss: 0.2352 - accuracy: 0.9125 - val_loss: 0.5968 - val_accuracy: 0.8500\n",
      "Epoch 118/120\n",
      "3/3 [==============================] - 0s 15ms/step - loss: 0.2367 - accuracy: 0.9125 - val_loss: 0.5988 - val_accuracy: 0.8500\n",
      "Epoch 119/120\n",
      "3/3 [==============================] - 0s 16ms/step - loss: 0.2352 - accuracy: 0.9125 - val_loss: 0.6007 - val_accuracy: 0.8500\n",
      "Epoch 120/120\n",
      "3/3 [==============================] - 0s 18ms/step - loss: 0.2334 - accuracy: 0.9000 - val_loss: 0.6049 - val_accuracy: 0.8500\n"
     ]
    }
   ],
   "source": [
    "model.compile(optimizer = 'adam', loss='binary_crossentropy', metrics=['accuracy'])\n",
    "history = model.fit(X_train, y_train, epochs = 120, validation_data=(X_test,y_test))"
   ]
  },
  {
   "cell_type": "code",
   "execution_count": 25,
   "id": "ded89a65-9522-4400-91a7-dae28a3cad0b",
   "metadata": {},
   "outputs": [],
   "source": [
    "method_names.append(\"ANN\")\n",
    "method_scores.append(0.851)"
   ]
  },
  {
   "cell_type": "code",
   "execution_count": 26,
   "id": "98bed912-c18b-42b1-a0e4-38e9e7449b51",
   "metadata": {},
   "outputs": [
    {
     "name": "stdout",
     "output_type": "stream",
     "text": [
      "Shape of trainX is (80, 8, 1)\n",
      "Shape of testX is (20, 8, 1)\n"
     ]
    }
   ],
   "source": [
    "trainX = np.reshape(X_train, (X_train.shape[0], X_train.shape[1],1))\n",
    "testX = np.reshape(X_test, (X_test.shape[0],X_test.shape[1],1))\n",
    "# Print and check shapes\n",
    "print(\"Shape of trainX is {}\".format(trainX.shape))\n",
    "print(\"Shape of testX is {}\".format(testX.shape))"
   ]
  },
  {
   "cell_type": "code",
   "execution_count": 27,
   "id": "d441f3d5-7bcf-44f5-b7ad-35421e6fdaba",
   "metadata": {},
   "outputs": [
    {
     "data": {
      "image/png": "[encoded data removed]",
      "text/plain": [
       "<Figure size 1000x800 with 1 Axes>"
      ]
     },
     "metadata": {},
     "output_type": "display_data"
    }
   ],
   "source": [
    "plt.figure(figsize=(10,8))\n",
    "#plt.plot(history.history[''])\n",
    "plt.plot(history.history['val_accuracy'],color='orange')\n",
    "plt.title('model accuracy')\n",
    "plt.ylabel('accuracy')\n",
    "plt.xlabel('epoch')\n",
    "plt.show()"
   ]
  },
  {
   "cell_type": "code",
   "execution_count": 28,
   "id": "9c58aefb-aca9-4263-9fb3-62ab16c6e206",
   "metadata": {},
   "outputs": [
    {
     "data": {
      "image/png": "[encoded data removed]",
      "text/plain": [
       "<Figure size 1000x800 with 1 Axes>"
      ]
     },
     "metadata": {},
     "output_type": "display_data"
    }
   ],
   "source": [
    "plt.figure(figsize=(10,8))\n",
    "plt.plot(history.history['loss'])\n",
    "plt.plot(history.history['val_loss'])\n",
    "plt.title('model loss')\n",
    "plt.ylabel('loss')\n",
    "plt.xlabel('epoch')\n",
    "plt.show()"
   ]
  },
  {
   "cell_type": "code",
   "execution_count": 35,
   "id": "a1d72ae9-6f68-4505-9cdf-5df93f30ea98",
   "metadata": {},
   "outputs": [
    {
     "name": "stdout",
     "output_type": "stream",
     "text": [
      "1/1 [==============================] - 0s 28ms/step\n"
     ]
    },
    {
     "data": {
      "text/plain": [
       "array([[1],\n",
       "       [1],\n",
       "       [1],\n",
       "       [1],\n",
       "       [1],\n",
       "       [1],\n",
       "       [1],\n",
       "       [0],\n",
       "       [1],\n",
       "       [1],\n",
       "       [1],\n",
       "       [1],\n",
       "       [1],\n",
       "       [1],\n",
       "       [1],\n",
       "       [1],\n",
       "       [0],\n",
       "       [1],\n",
       "       [1],\n",
       "       [0]])"
      ]
     },
     "execution_count": 35,
     "metadata": {},
     "output_type": "execute_result"
    }
   ],
   "source": [
    "y_pred_prob = model.predict(X_test)\n",
    "\n",
    "# Apply a threshold (e.g., 0.5) to convert probabilities to binary predictions\n",
    "threshold = 0.5\n",
    "y_pred = (y_pred_prob > threshold).astype(int)\n",
    "y_pred"
   ]
  },
  {
   "cell_type": "code",
   "execution_count": 36,
   "id": "c28997e6-4878-4350-a406-dc3f6518a4e6",
   "metadata": {},
   "outputs": [
    {
     "data": {
      "text/plain": [
       "(20,)"
      ]
     },
     "execution_count": 36,
     "metadata": {},
     "output_type": "execute_result"
    }
   ],
   "source": [
    "y_test.shape"
   ]
  },
  {
   "cell_type": "code",
   "execution_count": 37,
   "id": "13a88e6d-c146-4bee-a7cd-9b16a696bce4",
   "metadata": {},
   "outputs": [
    {
     "data": {
      "text/plain": [
       "(20,)"
      ]
     },
     "execution_count": 37,
     "metadata": {},
     "output_type": "execute_result"
    }
   ],
   "source": [
    "y_pred = np.squeeze(y_pred)\n",
    "y_pred.shape\n"
   ]
  },
  {
   "cell_type": "code",
   "execution_count": 38,
   "id": "46601685-895a-4397-b0f7-d243a302e096",
   "metadata": {},
   "outputs": [
    {
     "name": "stdout",
     "output_type": "stream",
     "text": [
      "Test Accuracy :  0.85\n"
     ]
    }
   ],
   "source": [
    "print('Test Accuracy : ',accuracy_score(y_test, y_pred))"
   ]
  },
  {
   "cell_type": "code",
   "execution_count": 39,
   "id": "5fae38e3-c0e7-447d-902e-148c497ace95",
   "metadata": {},
   "outputs": [
    {
     "name": "stderr",
     "output_type": "stream",
     "text": [
      "C:\\Users\\Orange\\AppData\\Local\\Programs\\Python\\Python311\\Lib\\site-packages\\keras\\src\\engine\\training.py:3000: UserWarning: You are saving your model as an HDF5 file via `model.save()`. This file format is considered legacy. We recommend using instead the native Keras format, e.g. `model.save('my_model.keras')`.\n",
      "  saving_api.save_model(\n"
     ]
    }
   ],
   "source": [
    "model.save('prostatecancer.h5') "
   ]
  },
  {
   "cell_type": "code",
   "execution_count": null,
   "id": "71c272c2-370e-4f5e-bd1b-f7ac8cf095af",
   "metadata": {},
   "outputs": [],
   "source": []
  }
 ],
 "metadata": {
  "kernelspec": {
   "display_name": "Python 3 (ipykernel)",
   "language": "python",
   "name": "python3"
  },
  "language_info": {
   "codemirror_mode": {
    "name": "ipython",
    "version": 3
   },
   "file_extension": ".py",
   "mimetype": "text/x-python",
   "name": "python",
   "nbconvert_exporter": "python",
   "pygments_lexer": "ipython3",
   "version": "3.11.4"
  }
 },
 "nbformat": 4,
 "nbformat_minor": 5
}
