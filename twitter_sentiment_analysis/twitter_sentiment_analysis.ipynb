{
 "cells": [
  {
   "cell_type": "markdown",
   "id": "531c3570-ad56-42e5-b5ff-d96e022a4a3d",
   "metadata": {},
   "source": [
    "# Twitter Sentiment Analysis using Machine Learning\n",
    "Twitter is a social networking platform where people have the freedom to share their opinions on any topic. We sometimes see a strong discussion on Twitter about someone's opinion that sometimes leads to a bunch of negative tweets.\n",
    "\n",
    "Sentiment analysis is the task of natural language processing. All social media platforms should monitor the feelings of discussion participants. We often see negative opinions on Twitter when the discussion is political. Therefore, each platform must continue to analyze sentiment to find the type of people who are spreading hate and negativity on their platform. For the Twitter Sentiment Analysis task, I collected a Kaggle dataset containing tweets about a long-form discussion within a group of users. Our task here is to determine the number of positive and negative tweets so that we can give a result. Therefore, in the section below, I will create a task of analyzing Twitter sentiment using Python.\n",
    "\n",
    "**Please note that my project draws inspiration from 'Machine Learning through Examples' by Dr. Alaa Tuaima, as I explore the concepts and techniques outlined in the book to create innovative solutions.**"
   ]
  },
  {
   "cell_type": "markdown",
   "id": "c1b61a12-eb65-4b45-9392-814d0c47b27b",
   "metadata": {},
   "source": [
    "### Importing Libraries for Generalized Text Classification, and loading the dataset\n",
    "This code snippet showcases the initial step of importing necessary libraries for a generalized text classification task. It includes the essential libraries like pandas and numpy for data manipulation, as well as modules from scikit-learn for text feature extraction and classification."
   ]
  },
  {
   "cell_type": "code",
   "execution_count": 19,
   "id": "9b4403d9-7d72-4dc4-a114-76b2eea10279",
   "metadata": {},
   "outputs": [],
   "source": [
    "import pandas as pd\n",
    "import numpy as np\n",
    "from sklearn.feature_extraction.text import CountVectorizer\n",
    "from sklearn.model_selection import train_test_split\n",
    "from sklearn.tree import DecisionTreeClassifier\n",
    "import re\n",
    "import nltk\n",
    "import warnings\n",
    "warnings.filterwarnings('ignore')"
   ]
  },
  {
   "cell_type": "code",
   "execution_count": 20,
   "id": "167aabc9-027a-42be-a5aa-f9a60553a80d",
   "metadata": {},
   "outputs": [
    {
     "data": {
      "text/html": [
       "<div>\n",
       "<style scoped>\n",
       "    .dataframe tbody tr th:only-of-type {\n",
       "        vertical-align: middle;\n",
       "    }\n",
       "\n",
       "    .dataframe tbody tr th {\n",
       "        vertical-align: top;\n",
       "    }\n",
       "\n",
       "    .dataframe thead th {\n",
       "        text-align: right;\n",
       "    }\n",
       "</style>\n",
       "<table border=\"1\" class=\"dataframe\">\n",
       "  <thead>\n",
       "    <tr style=\"text-align: right;\">\n",
       "      <th></th>\n",
       "      <th>count</th>\n",
       "      <th>hate_speech</th>\n",
       "      <th>offensive_language</th>\n",
       "      <th>neither</th>\n",
       "      <th>class</th>\n",
       "      <th>tweet</th>\n",
       "    </tr>\n",
       "  </thead>\n",
       "  <tbody>\n",
       "    <tr>\n",
       "      <th>0</th>\n",
       "      <td>3</td>\n",
       "      <td>0</td>\n",
       "      <td>0</td>\n",
       "      <td>3</td>\n",
       "      <td>2</td>\n",
       "      <td>!!! RT @mayasolovely: As a woman you shouldn't...</td>\n",
       "    </tr>\n",
       "    <tr>\n",
       "      <th>1</th>\n",
       "      <td>3</td>\n",
       "      <td>0</td>\n",
       "      <td>3</td>\n",
       "      <td>0</td>\n",
       "      <td>1</td>\n",
       "      <td>!!!!! RT @mleew17: boy dats cold...tyga dwn ba...</td>\n",
       "    </tr>\n",
       "    <tr>\n",
       "      <th>2</th>\n",
       "      <td>3</td>\n",
       "      <td>0</td>\n",
       "      <td>3</td>\n",
       "      <td>0</td>\n",
       "      <td>1</td>\n",
       "      <td>!!!!!!! RT @UrKindOfBrand Dawg!!!! RT @80sbaby...</td>\n",
       "    </tr>\n",
       "    <tr>\n",
       "      <th>3</th>\n",
       "      <td>3</td>\n",
       "      <td>0</td>\n",
       "      <td>2</td>\n",
       "      <td>1</td>\n",
       "      <td>1</td>\n",
       "      <td>!!!!!!!!! RT @C_G_Anderson: @viva_based she lo...</td>\n",
       "    </tr>\n",
       "    <tr>\n",
       "      <th>4</th>\n",
       "      <td>6</td>\n",
       "      <td>0</td>\n",
       "      <td>6</td>\n",
       "      <td>0</td>\n",
       "      <td>1</td>\n",
       "      <td>!!!!!!!!!!!!! RT @ShenikaRoberts: The shit you...</td>\n",
       "    </tr>\n",
       "  </tbody>\n",
       "</table>\n",
       "</div>"
      ],
      "text/plain": [
       "   count  hate_speech  offensive_language  neither  class  \\\n",
       "0      3            0                   0        3      2   \n",
       "1      3            0                   3        0      1   \n",
       "2      3            0                   3        0      1   \n",
       "3      3            0                   2        1      1   \n",
       "4      6            0                   6        0      1   \n",
       "\n",
       "                                               tweet  \n",
       "0  !!! RT @mayasolovely: As a woman you shouldn't...  \n",
       "1  !!!!! RT @mleew17: boy dats cold...tyga dwn ba...  \n",
       "2  !!!!!!! RT @UrKindOfBrand Dawg!!!! RT @80sbaby...  \n",
       "3  !!!!!!!!! RT @C_G_Anderson: @viva_based she lo...  \n",
       "4  !!!!!!!!!!!!! RT @ShenikaRoberts: The shit you...  "
      ]
     },
     "execution_count": 20,
     "metadata": {},
     "output_type": "execute_result"
    }
   ],
   "source": [
    "df = pd.read_csv('twitter.csv')\n",
    "df.drop(columns='Unnamed: 0', inplace=True)\n",
    "df.head()"
   ]
  },
  {
   "cell_type": "markdown",
   "id": "fd60bea5-1daf-4b49-b539-901846d0c0d7",
   "metadata": {},
   "source": [
    "### Text Cleaning and Preprocessing using NLTK\n",
    "This code uses NLTK and regular expressions to clean and prepare text data. It involves lowercase conversion, URL and tag removal, punctuation stripping, stopword elimination, and word stemming. The code showcases a streamlined approach to enhance the quality of text data for analysis or modeling."
   ]
  },
  {
   "cell_type": "code",
   "execution_count": 21,
   "id": "062f35af-7b89-4f85-926e-bb0a945adb52",
   "metadata": {},
   "outputs": [],
   "source": [
    "#nltk.download('stopwords')\n",
    "stemmer = nltk.SnowballStemmer(\"english\")\n",
    "from nltk.corpus import stopwords\n",
    "import string\n",
    "stopword=set(stopwords.words('english'))  # Stemming is used to transform words into their base forms\n",
    "def clean(text):\n",
    "    text = str(text).lower()   # converts the input text to lowercase\n",
    "    text = re.sub('\\[.*?\\]', '', text)   # removes any content enclosed within square brackets\n",
    "    text = re.sub('https?://\\S+|www\\.\\S+', '', text)   # removes URLs and website links \n",
    "    text = re.sub('<.*?>+', '', text)   # removes HTML tags\n",
    "    text = re.sub('[%s]' % re.escape(string.punctuation), '', text)   # removes any punctuation marks from the text\n",
    "    text = re.sub('\\n', '', text)   # removes newline characters from the text\n",
    "    text = re.sub('\\w*\\d\\w*', '', text)   # removes words that contain numbers\n",
    "    text = [word for word in text.split(' ') if word not in stopword]   # split the cleaned text into individual words, and remove any stopwords\n",
    "    text=\" \".join(text)\n",
    "    text = [stemmer.stem(word) for word in text.split(' ')]\n",
    "    text=\" \".join(text)\n",
    "    return text\n",
    "df[\"tweet\"] = df[\"tweet\"].apply(clean)"
   ]
  },
  {
   "cell_type": "markdown",
   "id": "5b82af96-bad0-4f6d-b88f-1155fec47a46",
   "metadata": {},
   "source": [
    "### Sentiment Analysis with NLTK's VADER\n",
    "The code employs the VADER sentiment analysis tool from NLTK. By analyzing text in the \"tweet\" column of a DataFrame, it computes positive, negative, and neutral sentiment scores for each entry. The sentiment scores provide insights into the emotional tone of the text, aiding in understanding sentiment patterns within the data."
   ]
  },
  {
   "cell_type": "code",
   "execution_count": 22,
   "id": "bf6370ef-86c0-4d47-bd1d-9fda3fb0ccfb",
   "metadata": {},
   "outputs": [],
   "source": [
    "from nltk.sentiment.vader import SentimentIntensityAnalyzer   # It is a class from NLTK used for sentiment analysis\n",
    "#nltk.download('vader_lexicon')\n",
    "sentiments = SentimentIntensityAnalyzer()\n",
    "df[\"Positive\"] = [sentiments.polarity_scores(i)[\"pos\"] for i in df[\"tweet\"]]   \n",
    "df[\"Negative\"] = [sentiments.polarity_scores(i)[\"neg\"] for i in df[\"tweet\"]]\n",
    "df[\"Neutral\"] = [sentiments.polarity_scores(i)[\"neu\"] for i in df[\"tweet\"]]\n",
    "# this code calculates sentiment scores using the polarity_scores method"
   ]
  },
  {
   "cell_type": "code",
   "execution_count": 23,
   "id": "8dd3dff7-7c22-4d33-926f-0c38958d7d33",
   "metadata": {},
   "outputs": [
    {
     "data": {
      "text/html": [
       "<div>\n",
       "<style scoped>\n",
       "    .dataframe tbody tr th:only-of-type {\n",
       "        vertical-align: middle;\n",
       "    }\n",
       "\n",
       "    .dataframe tbody tr th {\n",
       "        vertical-align: top;\n",
       "    }\n",
       "\n",
       "    .dataframe thead th {\n",
       "        text-align: right;\n",
       "    }\n",
       "</style>\n",
       "<table border=\"1\" class=\"dataframe\">\n",
       "  <thead>\n",
       "    <tr style=\"text-align: right;\">\n",
       "      <th></th>\n",
       "      <th>tweet</th>\n",
       "      <th>Positive</th>\n",
       "      <th>Negative</th>\n",
       "      <th>Neutral</th>\n",
       "    </tr>\n",
       "  </thead>\n",
       "  <tbody>\n",
       "    <tr>\n",
       "      <th>0</th>\n",
       "      <td>rt mayasolov woman shouldnt complain clean ho...</td>\n",
       "      <td>0.147</td>\n",
       "      <td>0.157</td>\n",
       "      <td>0.696</td>\n",
       "    </tr>\n",
       "    <tr>\n",
       "      <th>1</th>\n",
       "      <td>rt  boy dat coldtyga dwn bad cuffin dat hoe  ...</td>\n",
       "      <td>0.000</td>\n",
       "      <td>0.280</td>\n",
       "      <td>0.720</td>\n",
       "    </tr>\n",
       "    <tr>\n",
       "      <th>2</th>\n",
       "      <td>rt urkindofbrand dawg rt  ever fuck bitch sta...</td>\n",
       "      <td>0.000</td>\n",
       "      <td>0.577</td>\n",
       "      <td>0.423</td>\n",
       "    </tr>\n",
       "    <tr>\n",
       "      <th>3</th>\n",
       "      <td>rt cganderson vivabas look like tranni</td>\n",
       "      <td>0.333</td>\n",
       "      <td>0.000</td>\n",
       "      <td>0.667</td>\n",
       "    </tr>\n",
       "    <tr>\n",
       "      <th>4</th>\n",
       "      <td>rt shenikarobert shit hear might true might f...</td>\n",
       "      <td>0.154</td>\n",
       "      <td>0.407</td>\n",
       "      <td>0.440</td>\n",
       "    </tr>\n",
       "  </tbody>\n",
       "</table>\n",
       "</div>"
      ],
      "text/plain": [
       "                                               tweet  Positive  Negative  \\\n",
       "0   rt mayasolov woman shouldnt complain clean ho...     0.147     0.157   \n",
       "1   rt  boy dat coldtyga dwn bad cuffin dat hoe  ...     0.000     0.280   \n",
       "2   rt urkindofbrand dawg rt  ever fuck bitch sta...     0.000     0.577   \n",
       "3             rt cganderson vivabas look like tranni     0.333     0.000   \n",
       "4   rt shenikarobert shit hear might true might f...     0.154     0.407   \n",
       "\n",
       "   Neutral  \n",
       "0    0.696  \n",
       "1    0.720  \n",
       "2    0.423  \n",
       "3    0.667  \n",
       "4    0.440  "
      ]
     },
     "execution_count": 23,
     "metadata": {},
     "output_type": "execute_result"
    }
   ],
   "source": [
    "df = df[[\"tweet\", \"Positive\", \"Negative\", \"Neutral\"]]\n",
    "df.head()"
   ]
  },
  {
   "cell_type": "markdown",
   "id": "6b95aaa7-3fc9-473a-a958-1f28bc564581",
   "metadata": {},
   "source": [
    "### Aggregating Sentiment Scores and Determining Overall Sentiment\n",
    "This code calculates the total positive, negative, and neutral sentiment scores from the \"Positive,\" \"Negative,\" and \"Neutral\" columns of a DataFrame, respectively. It then defines a function, \"sentiment_score,\" that takes these scores as arguments and identifies the overall sentiment tendency based on which score is the highest."
   ]
  },
  {
   "cell_type": "code",
   "execution_count": 24,
   "id": "24d9f774-4037-4228-b872-b51a9a99418d",
   "metadata": {},
   "outputs": [
    {
     "name": "stdout",
     "output_type": "stream",
     "text": [
      "Neutral\n"
     ]
    }
   ],
   "source": [
    "x = sum(df[\"Positive\"])\n",
    "y = sum(df[\"Negative\"])\n",
    "z = sum(df[\"Neutral\"])\n",
    "\n",
    "def sentiment_score(a, b, c):\n",
    "    if (a>b) and (a>c):\n",
    "        print(\"Positive\")\n",
    "    elif (b>a) and (b>c):\n",
    "        print(\"Negative\")\n",
    "    else:\n",
    "        print(\"Neutral\")\n",
    "\n",
    "sentiment_score(x, y, z)"
   ]
  },
  {
   "cell_type": "code",
   "execution_count": 25,
   "id": "0cc5c759-bea3-4e74-aa42-2364b6a4423a",
   "metadata": {},
   "outputs": [
    {
     "name": "stdout",
     "output_type": "stream",
     "text": [
      "Positive:  2880.086000000009\n",
      "Negative:  7201.020999999922\n",
      "Neutral:  14696.887999999733\n"
     ]
    }
   ],
   "source": [
    "print(\"Positive: \", x)\n",
    "print(\"Negative: \", y)\n",
    "print(\"Neutral: \", z)"
   ]
  },
  {
   "cell_type": "code",
   "execution_count": null,
   "id": "0bd2c6b1-d87b-473e-8b70-78b9965e4eb6",
   "metadata": {},
   "outputs": [],
   "source": []
  }
 ],
 "metadata": {
  "kernelspec": {
   "display_name": "Python 3 (ipykernel)",
   "language": "python",
   "name": "python3"
  },
  "language_info": {
   "codemirror_mode": {
    "name": "ipython",
    "version": 3
   },
   "file_extension": ".py",
   "mimetype": "text/x-python",
   "name": "python",
   "nbconvert_exporter": "python",
   "pygments_lexer": "ipython3",
   "version": "3.11.4"
  }
 },
 "nbformat": 4,
 "nbformat_minor": 5
}
