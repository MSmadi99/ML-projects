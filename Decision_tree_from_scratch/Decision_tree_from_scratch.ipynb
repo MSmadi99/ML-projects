{
 "cells": [
  {
   "cell_type": "markdown",
   "id": "5c6d156a-2c86-464a-9d39-1e0097dcbf3c",
   "metadata": {},
   "source": [
    "# Decision tree from scratch"
   ]
  },
  {
   "cell_type": "code",
   "execution_count": 31,
   "id": "b6c2cd94-54aa-499e-a26d-31cd219888dd",
   "metadata": {},
   "outputs": [],
   "source": [
    "import numpy as np\n",
    "from sklearn.metrics import accuracy_score"
   ]
  },
  {
   "cell_type": "code",
   "execution_count": 27,
   "id": "8994d8a6-3dcc-4bce-8187-3dad6a50c743",
   "metadata": {},
   "outputs": [],
   "source": [
    "class DecisionTree:\n",
    "    def __init__(self, max_depth=None):\n",
    "        self.max_depth = max_depth\n",
    "        self.root = None\n",
    "\n",
    "    def fit(self, X, y, depth=0):\n",
    "        n_samples, n_features = X.shape\n",
    "        unique_classes = np.unique(y)\n",
    "        \n",
    "        if (len(unique_classes) == 1) or (depth == self.max_depth):\n",
    "            return Node(None, None, None, None, unique_classes[0])\n",
    "        \n",
    "        feature_idx, threshold = self.find_best_split(X, y)\n",
    "        left_indices, right_indices = self.split_data(X, feature_idx, threshold)\n",
    "        \n",
    "        if len(left_indices) == 0 or len(right_indices) == 0:\n",
    "            return Node(None, None, None, None, unique_classes[np.argmax(np.bincount(y))])\n",
    "        \n",
    "        left_subtree = self.fit(X[left_indices], y[left_indices], depth + 1)\n",
    "        right_subtree = self.fit(X[right_indices], y[right_indices], depth + 1)\n",
    "        \n",
    "        # Set the root node if this is the initial call\n",
    "        if depth == 0:\n",
    "            self.root = Node(feature_idx, threshold, left_subtree, right_subtree, None)\n",
    "        \n",
    "        return Node(feature_idx, threshold, left_subtree, right_subtree, None)\n",
    "    \n",
    "    def predict(self, X):\n",
    "        predictions = []\n",
    "        for x in X:\n",
    "            node = self.root\n",
    "            while node.value is None:\n",
    "                if x[node.feature_idx] <= node.threshold:\n",
    "                    node = node.left\n",
    "                else:\n",
    "                    node = node.right\n",
    "            predictions.append(node.value)\n",
    "        return predictions\n",
    "        \n",
    "    def find_best_split(self, X, y):\n",
    "        n_samples, n_features = X.shape\n",
    "        if n_samples <= 1:\n",
    "            return None, None\n",
    "        \n",
    "        y_sorted = np.sort(y)\n",
    "        splits = (y_sorted[1:] + y_sorted[:-1]) / 2.0\n",
    "        \n",
    "        best_gini = 1\n",
    "        best_split = None\n",
    "        for feature in range(n_features):\n",
    "            thresholds = np.unique(X[:, feature])\n",
    "            for threshold in thresholds:\n",
    "                left_indices, right_indices = self.split_data(X, feature, threshold)\n",
    "                if len(left_indices) == 0 or len(right_indices) == 0:\n",
    "                    continue\n",
    "                gini = self.calculate_gini(y[left_indices], y[right_indices])\n",
    "                if gini < best_gini:\n",
    "                    best_gini = gini\n",
    "                    best_split = (feature, threshold)\n",
    "        \n",
    "        return best_split\n",
    "\n",
    "    def split_data(self, X, feature_idx, threshold):\n",
    "        left_indices = np.where(X[:, feature_idx] <= threshold)[0]\n",
    "        right_indices = np.where(X[:, feature_idx] > threshold)[0]\n",
    "        return left_indices, right_indices\n",
    "\n",
    "    def calculate_gini(self, left_y, right_y):\n",
    "        total_samples = len(left_y) + len(right_y)\n",
    "        p_left = len(left_y) / total_samples\n",
    "        p_right = len(right_y) / total_samples\n",
    "        \n",
    "        gini_left = 1 - sum((np.sum(left_y == c) / len(left_y))**2 for c in np.unique(left_y))\n",
    "        gini_right = 1 - sum((np.sum(right_y == c) / len(right_y))**2 for c in np.unique(right_y))\n",
    "        \n",
    "        gini = p_left * gini_left + p_right * gini_right\n",
    "        return gini"
   ]
  },
  {
   "cell_type": "code",
   "execution_count": 28,
   "id": "f4c297b0-88fb-4979-a103-0f1e88bd63ee",
   "metadata": {},
   "outputs": [],
   "source": [
    "class Node:\n",
    "    def __init__(self, feature_idx, threshold, left, right, value):\n",
    "        self.feature_idx = feature_idx\n",
    "        self.threshold = threshold\n",
    "        self.left = left\n",
    "        self.right = right\n",
    "        self.value = value"
   ]
  },
  {
   "cell_type": "code",
   "execution_count": 29,
   "id": "f8f9dec6-8566-48a6-8bb2-1d325e2e9603",
   "metadata": {},
   "outputs": [],
   "source": [
    "X = np.array([[2, 3], [5, 6], [7, 8], [9, 10], [11, 12]])\n",
    "y = np.array([0, 1, 1, 0, 0])"
   ]
  },
  {
   "cell_type": "code",
   "execution_count": 32,
   "id": "a1f438ea-0dc9-443c-8dac-f29b2c0b7b64",
   "metadata": {},
   "outputs": [
    {
     "name": "stdout",
     "output_type": "stream",
     "text": [
      "Custom DecisionTree Accuracy: 1.0\n"
     ]
    }
   ],
   "source": [
    "tree = DecisionTree(max_depth=2)\n",
    "tree.fit(X, y)\n",
    "\n",
    "my_predictions = tree.predict(X)\n",
    "my_accuracy = accuracy_score(y, my_predictions)\n",
    "print(\"Custom DecisionTree Accuracy:\", my_accuracy)"
   ]
  },
  {
   "cell_type": "code",
   "execution_count": null,
   "id": "2862e30d-f47c-49fe-8b34-db68b26a4dee",
   "metadata": {},
   "outputs": [],
   "source": []
  }
 ],
 "metadata": {
  "kernelspec": {
   "display_name": "Python 3 (ipykernel)",
   "language": "python",
   "name": "python3"
  },
  "language_info": {
   "codemirror_mode": {
    "name": "ipython",
    "version": 3
   },
   "file_extension": ".py",
   "mimetype": "text/x-python",
   "name": "python",
   "nbconvert_exporter": "python",
   "pygments_lexer": "ipython3",
   "version": "3.11.4"
  }
 },
 "nbformat": 4,
 "nbformat_minor": 5
}
