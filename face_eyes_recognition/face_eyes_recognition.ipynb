{
 "cells": [
  {
   "cell_type": "markdown",
   "id": "6d73d84d-3ca3-4feb-a7f4-4ec53f0682c0",
   "metadata": {},
   "source": [
    "# Face and eyes detector\n",
    "Here we will deal with detection. OpenCV already contains many pre-trained \n",
    "classifiers for face, eyes, smile etc. Those XML files are stored i \r\n",
    "opencv/data/haarcascades/ folder. Let's create face and eye detector with OpenCV."
   ]
  },
  {
   "cell_type": "code",
   "execution_count": 14,
   "id": "fdfa3037-57a5-4dcf-9933-226aa6392fb8",
   "metadata": {},
   "outputs": [],
   "source": [
    "import cv2"
   ]
  },
  {
   "cell_type": "code",
   "execution_count": 15,
   "id": "73864d0f-0ed3-4edc-84f4-51015ac3b85b",
   "metadata": {},
   "outputs": [],
   "source": [
    "face_cascade = cv2.CascadeClassifier(r'C:\\Users\\Orange\\AppData\\Local\\Programs\\Python\\Python311\\Lib\\site-packages\\cv2\\data\\haarcascade_frontalface_default.xml')\n",
    "eye_cascade = cv2.CascadeClassifier(r'C:\\Users\\Orange\\AppData\\Local\\Programs\\Python\\Python311\\Lib\\site-packages\\cv2\\data\\haarcascade_eye.xml')"
   ]
  },
  {
   "cell_type": "code",
   "execution_count": 16,
   "id": "1b42ce45-a8ea-43ee-9b7f-73c12ab734fb",
   "metadata": {},
   "outputs": [],
   "source": [
    "img = cv2.imread('messi1.jpg')\n",
    "\n",
    "gray_image = cv2.cvtColor(img, cv2.COLOR_BGR2GRAY)"
   ]
  },
  {
   "cell_type": "code",
   "execution_count": 17,
   "id": "daa5a5f5-1765-476f-8286-20bd6f4ed531",
   "metadata": {},
   "outputs": [],
   "source": [
    "faces = face_cascade.detectMultiScale(gray_image, scaleFactor=1.3, minNeighbors=5)"
   ]
  },
  {
   "cell_type": "code",
   "execution_count": 18,
   "id": "a86d11fa-b3a2-49c4-9af5-b7a3041c62e2",
   "metadata": {},
   "outputs": [],
   "source": [
    "for (x, y, w, h) in faces:\n",
    "    img = cv2.rectangle(img, (x, y), (x+w, y+h), (0, 255, 0), 2)\n",
    "    roi_gray = gray_image[y:y+h , x:x+w]\n",
    "    roi_color = img[y:y+h , x:x+w]\n",
    "\n",
    "    eyes = eye_cascade.detectMultiScale(roi_gray)\n",
    "    for (ex, ey, ew, eh) in eyes:\n",
    "        cv2.rectangle(roi_color, (ex, ey), (ex+ew, ey+eh), (0, 255, 0), 2)"
   ]
  },
  {
   "cell_type": "code",
   "execution_count": 19,
   "id": "50c5c7f9-4b97-4997-b471-97b67183232a",
   "metadata": {},
   "outputs": [],
   "source": [
    "cv2.imshow('img', img)\n",
    "cv2.waitKey(0)\n",
    "cv2.destroyAllWindows()"
   ]
  }
 ],
 "metadata": {
  "kernelspec": {
   "display_name": "Python 3 (ipykernel)",
   "language": "python",
   "name": "python3"
  },
  "language_info": {
   "codemirror_mode": {
    "name": "ipython",
    "version": 3
   },
   "file_extension": ".py",
   "mimetype": "text/x-python",
   "name": "python",
   "nbconvert_exporter": "python",
   "pygments_lexer": "ipython3",
   "version": "3.11.4"
  }
 },
 "nbformat": 4,
 "nbformat_minor": 5
}
