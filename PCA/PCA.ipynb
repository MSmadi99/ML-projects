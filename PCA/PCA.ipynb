{
 "cells": [
  {
   "cell_type": "markdown",
   "id": "8342a6a3-0bcc-49dc-b12c-21009a81ec04",
   "metadata": {},
   "source": [
    "# PCA & PCA from scratch"
   ]
  },
  {
   "cell_type": "code",
   "execution_count": 84,
   "id": "747bf334-a555-40d6-8cff-931926be5dc5",
   "metadata": {},
   "outputs": [],
   "source": [
    "import numpy as np\n",
    "import pandas as pd\n",
    "from sklearn import datasets\n",
    "from sklearn.naive_bayes import GaussianNB\n",
    "from sklearn.decomposition import PCA\n",
    "from sklearn.model_selection import train_test_split\n",
    "from sklearn.metrics import accuracy_score"
   ]
  },
  {
   "cell_type": "code",
   "execution_count": 85,
   "id": "af7b3eac-aa1e-4d59-982a-330df59dcb80",
   "metadata": {},
   "outputs": [],
   "source": [
    "# Load hand-written digits data \n",
    "digits = datasets.load_digits()\n",
    "X = digits.data\n",
    "y = digits.target"
   ]
  },
  {
   "cell_type": "markdown",
   "id": "0674deed-dde6-4254-a5ae-4704e69d6e0c",
   "metadata": {},
   "source": [
    "### Before PCA"
   ]
  },
  {
   "cell_type": "code",
   "execution_count": 86,
   "id": "994f893c-f3bf-4801-bd99-4750d229827e",
   "metadata": {},
   "outputs": [
    {
     "data": {
      "text/html": [
       "<style>#sk-container-id-9 {color: black;}#sk-container-id-9 pre{padding: 0;}#sk-container-id-9 div.sk-toggleable {background-color: white;}#sk-container-id-9 label.sk-toggleable__label {cursor: pointer;display: block;width: 100%;margin-bottom: 0;padding: 0.3em;box-sizing: border-box;text-align: center;}#sk-container-id-9 label.sk-toggleable__label-arrow:before {content: \"▸\";float: left;margin-right: 0.25em;color: #696969;}#sk-container-id-9 label.sk-toggleable__label-arrow:hover:before {color: black;}#sk-container-id-9 div.sk-estimator:hover label.sk-toggleable__label-arrow:before {color: black;}#sk-container-id-9 div.sk-toggleable__content {max-height: 0;max-width: 0;overflow: hidden;text-align: left;background-color: #f0f8ff;}#sk-container-id-9 div.sk-toggleable__content pre {margin: 0.2em;color: black;border-radius: 0.25em;background-color: #f0f8ff;}#sk-container-id-9 input.sk-toggleable__control:checked~div.sk-toggleable__content {max-height: 200px;max-width: 100%;overflow: auto;}#sk-container-id-9 input.sk-toggleable__control:checked~label.sk-toggleable__label-arrow:before {content: \"▾\";}#sk-container-id-9 div.sk-estimator input.sk-toggleable__control:checked~label.sk-toggleable__label {background-color: #d4ebff;}#sk-container-id-9 div.sk-label input.sk-toggleable__control:checked~label.sk-toggleable__label {background-color: #d4ebff;}#sk-container-id-9 input.sk-hidden--visually {border: 0;clip: rect(1px 1px 1px 1px);clip: rect(1px, 1px, 1px, 1px);height: 1px;margin: -1px;overflow: hidden;padding: 0;position: absolute;width: 1px;}#sk-container-id-9 div.sk-estimator {font-family: monospace;background-color: #f0f8ff;border: 1px dotted black;border-radius: 0.25em;box-sizing: border-box;margin-bottom: 0.5em;}#sk-container-id-9 div.sk-estimator:hover {background-color: #d4ebff;}#sk-container-id-9 div.sk-parallel-item::after {content: \"\";width: 100%;border-bottom: 1px solid gray;flex-grow: 1;}#sk-container-id-9 div.sk-label:hover label.sk-toggleable__label {background-color: #d4ebff;}#sk-container-id-9 div.sk-serial::before {content: \"\";position: absolute;border-left: 1px solid gray;box-sizing: border-box;top: 0;bottom: 0;left: 50%;z-index: 0;}#sk-container-id-9 div.sk-serial {display: flex;flex-direction: column;align-items: center;background-color: white;padding-right: 0.2em;padding-left: 0.2em;position: relative;}#sk-container-id-9 div.sk-item {position: relative;z-index: 1;}#sk-container-id-9 div.sk-parallel {display: flex;align-items: stretch;justify-content: center;background-color: white;position: relative;}#sk-container-id-9 div.sk-item::before, #sk-container-id-9 div.sk-parallel-item::before {content: \"\";position: absolute;border-left: 1px solid gray;box-sizing: border-box;top: 0;bottom: 0;left: 50%;z-index: -1;}#sk-container-id-9 div.sk-parallel-item {display: flex;flex-direction: column;z-index: 1;position: relative;background-color: white;}#sk-container-id-9 div.sk-parallel-item:first-child::after {align-self: flex-end;width: 50%;}#sk-container-id-9 div.sk-parallel-item:last-child::after {align-self: flex-start;width: 50%;}#sk-container-id-9 div.sk-parallel-item:only-child::after {width: 0;}#sk-container-id-9 div.sk-dashed-wrapped {border: 1px dashed gray;margin: 0 0.4em 0.5em 0.4em;box-sizing: border-box;padding-bottom: 0.4em;background-color: white;}#sk-container-id-9 div.sk-label label {font-family: monospace;font-weight: bold;display: inline-block;line-height: 1.2em;}#sk-container-id-9 div.sk-label-container {text-align: center;}#sk-container-id-9 div.sk-container {/* jupyter's `normalize.less` sets `[hidden] { display: none; }` but bootstrap.min.css set `[hidden] { display: none !important; }` so we also need the `!important` here to be able to override the default hidden behavior on the sphinx rendered scikit-learn.org. See: https://github.com/scikit-learn/scikit-learn/issues/21755 */display: inline-block !important;position: relative;}#sk-container-id-9 div.sk-text-repr-fallback {display: none;}</style><div id=\"sk-container-id-9\" class=\"sk-top-container\"><div class=\"sk-text-repr-fallback\"><pre>GaussianNB()</pre><b>In a Jupyter environment, please rerun this cell to show the HTML representation or trust the notebook. <br />On GitHub, the HTML representation is unable to render, please try loading this page with nbviewer.org.</b></div><div class=\"sk-container\" hidden><div class=\"sk-item\"><div class=\"sk-estimator sk-toggleable\"><input class=\"sk-toggleable__control sk-hidden--visually\" id=\"sk-estimator-id-9\" type=\"checkbox\" checked><label for=\"sk-estimator-id-9\" class=\"sk-toggleable__label sk-toggleable__label-arrow\">GaussianNB</label><div class=\"sk-toggleable__content\"><pre>GaussianNB()</pre></div></div></div></div></div>"
      ],
      "text/plain": [
       "GaussianNB()"
      ]
     },
     "execution_count": 86,
     "metadata": {},
     "output_type": "execute_result"
    }
   ],
   "source": [
    "# Instantiate NB Model\n",
    "X_train, X_test, y_train, y_test = train_test_split(X, y, test_size=0.2, random_state=42)\n",
    "\n",
    "NB = GaussianNB()\n",
    "# Train NB Model\n",
    "NB.fit(X_train, y_train)"
   ]
  },
  {
   "cell_type": "code",
   "execution_count": 87,
   "id": "9a47f18d-f83d-40b8-ac09-19c699fbface",
   "metadata": {},
   "outputs": [
    {
     "name": "stdout",
     "output_type": "stream",
     "text": [
      "Accuracy before PCA:  84.72 %\n"
     ]
    }
   ],
   "source": [
    "# Print Accurucay\n",
    "y_pred = NB.predict(X_test)\n",
    "\n",
    "accuracy = accuracy_score(y_pred, y_test)\n",
    "print(f'Accuracy before PCA: {accuracy*100: .2f} %')"
   ]
  },
  {
   "cell_type": "markdown",
   "id": "3a87d6c8-961b-444f-b6a1-a0bbdfc7a2f9",
   "metadata": {},
   "source": [
    "### After PCA"
   ]
  },
  {
   "cell_type": "code",
   "execution_count": 88,
   "id": "7e7ae580-8081-4724-9f0e-b89b1d5fe790",
   "metadata": {},
   "outputs": [],
   "source": [
    "# Use PCA to reduce number of features to 10\n",
    "pca = PCA(n_components=10)\n",
    "\n",
    "X_train_pca = pca.fit_transform(X_train)\n",
    "X_test_pca = pca.transform(X_test)\n"
   ]
  },
  {
   "cell_type": "code",
   "execution_count": 89,
   "id": "8f66e900-5d2f-435c-a098-e2e1f21e35af",
   "metadata": {},
   "outputs": [
    {
     "data": {
      "text/html": [
       "<style>#sk-container-id-10 {color: black;}#sk-container-id-10 pre{padding: 0;}#sk-container-id-10 div.sk-toggleable {background-color: white;}#sk-container-id-10 label.sk-toggleable__label {cursor: pointer;display: block;width: 100%;margin-bottom: 0;padding: 0.3em;box-sizing: border-box;text-align: center;}#sk-container-id-10 label.sk-toggleable__label-arrow:before {content: \"▸\";float: left;margin-right: 0.25em;color: #696969;}#sk-container-id-10 label.sk-toggleable__label-arrow:hover:before {color: black;}#sk-container-id-10 div.sk-estimator:hover label.sk-toggleable__label-arrow:before {color: black;}#sk-container-id-10 div.sk-toggleable__content {max-height: 0;max-width: 0;overflow: hidden;text-align: left;background-color: #f0f8ff;}#sk-container-id-10 div.sk-toggleable__content pre {margin: 0.2em;color: black;border-radius: 0.25em;background-color: #f0f8ff;}#sk-container-id-10 input.sk-toggleable__control:checked~div.sk-toggleable__content {max-height: 200px;max-width: 100%;overflow: auto;}#sk-container-id-10 input.sk-toggleable__control:checked~label.sk-toggleable__label-arrow:before {content: \"▾\";}#sk-container-id-10 div.sk-estimator input.sk-toggleable__control:checked~label.sk-toggleable__label {background-color: #d4ebff;}#sk-container-id-10 div.sk-label input.sk-toggleable__control:checked~label.sk-toggleable__label {background-color: #d4ebff;}#sk-container-id-10 input.sk-hidden--visually {border: 0;clip: rect(1px 1px 1px 1px);clip: rect(1px, 1px, 1px, 1px);height: 1px;margin: -1px;overflow: hidden;padding: 0;position: absolute;width: 1px;}#sk-container-id-10 div.sk-estimator {font-family: monospace;background-color: #f0f8ff;border: 1px dotted black;border-radius: 0.25em;box-sizing: border-box;margin-bottom: 0.5em;}#sk-container-id-10 div.sk-estimator:hover {background-color: #d4ebff;}#sk-container-id-10 div.sk-parallel-item::after {content: \"\";width: 100%;border-bottom: 1px solid gray;flex-grow: 1;}#sk-container-id-10 div.sk-label:hover label.sk-toggleable__label {background-color: #d4ebff;}#sk-container-id-10 div.sk-serial::before {content: \"\";position: absolute;border-left: 1px solid gray;box-sizing: border-box;top: 0;bottom: 0;left: 50%;z-index: 0;}#sk-container-id-10 div.sk-serial {display: flex;flex-direction: column;align-items: center;background-color: white;padding-right: 0.2em;padding-left: 0.2em;position: relative;}#sk-container-id-10 div.sk-item {position: relative;z-index: 1;}#sk-container-id-10 div.sk-parallel {display: flex;align-items: stretch;justify-content: center;background-color: white;position: relative;}#sk-container-id-10 div.sk-item::before, #sk-container-id-10 div.sk-parallel-item::before {content: \"\";position: absolute;border-left: 1px solid gray;box-sizing: border-box;top: 0;bottom: 0;left: 50%;z-index: -1;}#sk-container-id-10 div.sk-parallel-item {display: flex;flex-direction: column;z-index: 1;position: relative;background-color: white;}#sk-container-id-10 div.sk-parallel-item:first-child::after {align-self: flex-end;width: 50%;}#sk-container-id-10 div.sk-parallel-item:last-child::after {align-self: flex-start;width: 50%;}#sk-container-id-10 div.sk-parallel-item:only-child::after {width: 0;}#sk-container-id-10 div.sk-dashed-wrapped {border: 1px dashed gray;margin: 0 0.4em 0.5em 0.4em;box-sizing: border-box;padding-bottom: 0.4em;background-color: white;}#sk-container-id-10 div.sk-label label {font-family: monospace;font-weight: bold;display: inline-block;line-height: 1.2em;}#sk-container-id-10 div.sk-label-container {text-align: center;}#sk-container-id-10 div.sk-container {/* jupyter's `normalize.less` sets `[hidden] { display: none; }` but bootstrap.min.css set `[hidden] { display: none !important; }` so we also need the `!important` here to be able to override the default hidden behavior on the sphinx rendered scikit-learn.org. See: https://github.com/scikit-learn/scikit-learn/issues/21755 */display: inline-block !important;position: relative;}#sk-container-id-10 div.sk-text-repr-fallback {display: none;}</style><div id=\"sk-container-id-10\" class=\"sk-top-container\"><div class=\"sk-text-repr-fallback\"><pre>GaussianNB()</pre><b>In a Jupyter environment, please rerun this cell to show the HTML representation or trust the notebook. <br />On GitHub, the HTML representation is unable to render, please try loading this page with nbviewer.org.</b></div><div class=\"sk-container\" hidden><div class=\"sk-item\"><div class=\"sk-estimator sk-toggleable\"><input class=\"sk-toggleable__control sk-hidden--visually\" id=\"sk-estimator-id-10\" type=\"checkbox\" checked><label for=\"sk-estimator-id-10\" class=\"sk-toggleable__label sk-toggleable__label-arrow\">GaussianNB</label><div class=\"sk-toggleable__content\"><pre>GaussianNB()</pre></div></div></div></div></div>"
      ],
      "text/plain": [
       "GaussianNB()"
      ]
     },
     "execution_count": 89,
     "metadata": {},
     "output_type": "execute_result"
    }
   ],
   "source": [
    "# Instantiate second NB model\n",
    "NB_PCA = GaussianNB()\n",
    "# Train second model using new features\n",
    "NB_PCA.fit(X_train_pca, y_train)\n"
   ]
  },
  {
   "cell_type": "code",
   "execution_count": 90,
   "id": "f909633c-0a82-4d6b-b9fa-2907a1622cf4",
   "metadata": {},
   "outputs": [
    {
     "name": "stdout",
     "output_type": "stream",
     "text": [
      "Accuracy after PCA:  91.39 %\n"
     ]
    }
   ],
   "source": [
    "# Print new accuracy\n",
    "y_pred_pca = NB_PCA.predict(X_test_pca)\n",
    "\n",
    "accuracy_pca = accuracy_score(y_pred_pca, y_test)\n",
    "print(f'Accuracy after PCA: {accuracy_pca*100: .2f} %')\n"
   ]
  },
  {
   "cell_type": "markdown",
   "id": "418579dd-1644-4bc4-9210-db37e52cded5",
   "metadata": {},
   "source": [
    "### PCA from scratch"
   ]
  },
  {
   "cell_type": "code",
   "execution_count": 91,
   "id": "bfd4e240-2b67-4e22-9486-55778101b339",
   "metadata": {},
   "outputs": [],
   "source": [
    "import numpy as np\n",
    "# Subtract the mean to center the data \n",
    "# Centering the data ensures that the mean of each feature becomes zero, \n",
    "# which is a fundamental step in PCA. It allows PCA to capture the variance in the data.\n",
    "def center_data(X):\n",
    "    mean = np.mean(X, axis=0)\n",
    "    centered_data = X - mean\n",
    "    return centered_data, mean\n",
    "# Compute the covariance matrix\n",
    "# The covariance matrix represents how features in the data are related to each other. \n",
    "# PCA aims to find orthogonal directions (principal components) along which the data varies the most, \n",
    "# and these directions correspond to the eigenvectors of the covariance matrix.\n",
    "def covariance_matrix(X):\n",
    "    cov_matrix = np.cov(X, rowvar=False) # columns represent variables and rows represent observations.\n",
    "    return cov_matrix\n",
    "# Calculate Eigenvalues and Eigenvectors of the covariance matrix\n",
    "# Eigenvalues represent the amount of variance explained by each eigenvector (principal component). \n",
    "# Eigenvectors are the directions of maximum variance in the data.\n",
    "def eigenvalues_eigenvectors(cov_matrix):\n",
    "    eigenvalues, eigenvectors = np.linalg.eig(cov_matrix)\n",
    "    return eigenvalues, eigenvectors\n",
    "# Sort the eigenvalues in descending order to get the sorted eigenvectors\n",
    "# Sorting ensures that the principal components are in descending order of importance (variance explained). \n",
    "# The eigenvectors with larger eigenvalues capture more variance.\n",
    "def sort_eigenvalues_eigenvectors(eigenvalues, eigenvectors):\n",
    "    sorted_indices = np.argsort(eigenvalues)[::-1]\n",
    "    sorted_eigenvalues = eigenvalues[sorted_indices]\n",
    "    sorted_eigenvectors = eigenvectors[:, sorted_indices]\n",
    "    return sorted_eigenvalues, sorted_eigenvectors\n",
    "# Select the first n eigenvectors\n",
    "# This step allows you to choose how many principal components you want to retain. \n",
    "# A smaller n means more dimensionality reduction.\n",
    "def first_n_eigenvectors(sorted_eigenvectors, n):\n",
    "    top_n_eigenvectors = sorted_eigenvectors[:, :n]\n",
    "    return top_n_eigenvectors\n",
    "# Transform the data by applying a dot product \n",
    "# This step projects the original data into the principal component space, reducing its dimensionality while retaining most of the variance.\n",
    "def transform_data(X, eigenvectors):\n",
    "    transformed_data = X.dot(eigenvectors)\n",
    "    return transformed_data"
   ]
  },
  {
   "cell_type": "code",
   "execution_count": 92,
   "id": "197c3c31-29d8-4f48-8b5c-e68374ccd3b4",
   "metadata": {},
   "outputs": [
    {
     "name": "stdout",
     "output_type": "stream",
     "text": [
      "Accuracy after from scratch PCA:  91.39 %\n"
     ]
    }
   ],
   "source": [
    "centered_data, mean = center_data(X_train)\n",
    "\n",
    "cov_matrix = covariance_matrix(centered_data)\n",
    "\n",
    "eigenvalues, eigenvectors = eigenvalues_eigenvectors(cov_matrix)\n",
    "\n",
    "sorted_eigenvalues, sorted_eigenvectors = sort_eigenvalues_eigenvectors(eigenvalues, eigenvectors)\n",
    "\n",
    "n_components = 10  \n",
    "top_n_eigenvectors = first_n_eigenvectors(sorted_eigenvectors, n_components)\n",
    "\n",
    "transformed_X_train = transform_data(centered_data, top_n_eigenvectors)\n",
    "transformed_X_test = transform_data(X_test - mean, top_n_eigenvectors)\n",
    "\n",
    "gnb = GaussianNB()\n",
    "gnb.fit(transformed_X_train, y_train)\n",
    "\n",
    "y_pred_ = gnb.predict(transformed_X_test)\n",
    "\n",
    "accuracy_ = accuracy_score(y_test, y_pred_)\n",
    "print(f'Accuracy after from scratch PCA: {accuracy_*100: .2f} %')"
   ]
  },
  {
   "cell_type": "markdown",
   "id": "ac675a93-a6df-4227-9aad-a51ed47e4347",
   "metadata": {},
   "source": [
    "### PCA from scratch - OOP"
   ]
  },
  {
   "cell_type": "code",
   "execution_count": 93,
   "id": "13d6b690-895a-4519-91a8-e32711ef78c6",
   "metadata": {},
   "outputs": [],
   "source": [
    "import numpy as np\n",
    "\n",
    "class PCA_SC:\n",
    "    def __init__(self, n_components):\n",
    "        self.n_components = n_components\n",
    "        self.components = None\n",
    "        self.mean = None\n",
    "    \n",
    "    def fit(self, X):\n",
    "        # Calculate the mean of the data\n",
    "        self.mean = np.mean(X, axis=0)\n",
    "        \n",
    "        # Center the data\n",
    "        X_centered = X - self.mean\n",
    "        \n",
    "        # Calculate the covariance matrix\n",
    "        cov_matrix = np.cov(X_centered, rowvar=False)\n",
    "        \n",
    "        # Calculate the eigenvalues and eigenvectors\n",
    "        eigenvalues, eigenvectors = np.linalg.eigh(cov_matrix)\n",
    "        \n",
    "        # Sort eigenvectors by eigenvalues in descending order\n",
    "        sorted_indices = np.argsort(eigenvalues)[::-1]\n",
    "        eigenvalues = eigenvalues[sorted_indices]\n",
    "        eigenvectors = eigenvectors[:, sorted_indices]\n",
    "        \n",
    "        # Select the top n_components eigenvectors\n",
    "        self.components = eigenvectors[:, :self.n_components]\n",
    "    \n",
    "    def transform(self, X):\n",
    "        # Center the data\n",
    "        X_centered = X - self.mean\n",
    "        \n",
    "        return np.dot(X_centered, self.components)\n"
   ]
  },
  {
   "cell_type": "code",
   "execution_count": 94,
   "id": "b77edde1-39ba-4f01-9b50-627c6f15ce43",
   "metadata": {},
   "outputs": [
    {
     "name": "stdout",
     "output_type": "stream",
     "text": [
      "Accuracy after PCA from scratch:  91.39 %\n"
     ]
    }
   ],
   "source": [
    "n_components = 2  # Number of principal components to keep\n",
    "pca = PCA_SC(n_components)\n",
    "pca.fit(X_train)\n",
    "\n",
    "# Transform the training and testing data\n",
    "X_train_pca = pca.transform(X_train)\n",
    "X_test_pca = pca.transform(X_test)\n",
    "\n",
    "gnb = GaussianNB()\n",
    "gnb.fit(X_train_pca, y_train)\n",
    "\n",
    "y_pred = gnb.predict(X_test_pca)\n",
    "\n",
    "accuracy = accuracy_score(y_pred, y_test)\n",
    "print(f'Accuracy after PCA from scratch: {accuracy_*100: .2f} %')"
   ]
  },
  {
   "cell_type": "code",
   "execution_count": null,
   "id": "2ce83ff8-8a3d-428e-982c-27e844a7d19c",
   "metadata": {},
   "outputs": [],
   "source": []
  }
 ],
 "metadata": {
  "kernelspec": {
   "display_name": "Python 3 (ipykernel)",
   "language": "python",
   "name": "python3"
  },
  "language_info": {
   "codemirror_mode": {
    "name": "ipython",
    "version": 3
   },
   "file_extension": ".py",
   "mimetype": "text/x-python",
   "name": "python",
   "nbconvert_exporter": "python",
   "pygments_lexer": "ipython3",
   "version": "3.11.4"
  }
 },
 "nbformat": 4,
 "nbformat_minor": 5
}
