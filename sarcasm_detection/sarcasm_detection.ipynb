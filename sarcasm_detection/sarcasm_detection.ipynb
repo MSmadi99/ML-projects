{
 "cells": [
  {
   "cell_type": "markdown",
   "id": "96e5492c-3518-4a0e-a09c-4af66a09a72b",
   "metadata": {},
   "source": [
    "# Sarcasm Detection using Machine learning\n",
    "Sarcasm has been a part of our language for many years. This means being the opposite of what you mean, usually with a distinctive tone of voice in a fun way. If you think that anyone can understand sarcasm, you are wrong, because understanding sarcasm depends on your language skills and knowledge of other people's minds. But what about the computer? Is it possible to train a machine learning model that can detect whether a sentence is sarcastic or not? yes, it is!\n",
    "\n",
    "Sarcasm means being funny by being the opposite of what you mean. It has been a part of every human language for years. Today, it is also being used in news headlines and many other social media platforms to attract more attention. Detecting sarcasm is a natural language processing and binary classification task. We can train a machine learning model to detect whether a sentence is sarcastic or not using a dataset of sarcastic and non-sarcastic sentences that I found at Kaggle.\n",
    "\n",
    "**Please note that my project draws inspiration from 'Machine Learning through Examples' by Dr. Alaa Tuaima, as I explore the concepts and techniques outlined in the book to create innovative solutions.** .g"
   ]
  },
  {
   "cell_type": "markdown",
   "id": "c53f5434-9c02-49c7-8556-4bf62fa8a448",
   "metadata": {},
   "source": [
    "### Importing libraries and loading dataset"
   ]
  },
  {
   "cell_type": "code",
   "execution_count": 1,
   "id": "26bb2533-9032-4e90-9572-0784328f0bc5",
   "metadata": {},
   "outputs": [],
   "source": [
    "import pandas as pd\n",
    "import numpy as np\n",
    "from sklearn.feature_extraction.text import CountVectorizer\n",
    "from sklearn.model_selection import train_test_split\n",
    "from sklearn.naive_bayes import BernoulliNB"
   ]
  },
  {
   "cell_type": "code",
   "execution_count": 7,
   "id": "3a5a45c6-0169-487c-8d91-618e8761898c",
   "metadata": {},
   "outputs": [
    {
     "data": {
      "text/html": [
       "<div>\n",
       "<style scoped>\n",
       "    .dataframe tbody tr th:only-of-type {\n",
       "        vertical-align: middle;\n",
       "    }\n",
       "\n",
       "    .dataframe tbody tr th {\n",
       "        vertical-align: top;\n",
       "    }\n",
       "\n",
       "    .dataframe thead th {\n",
       "        text-align: right;\n",
       "    }\n",
       "</style>\n",
       "<table border=\"1\" class=\"dataframe\">\n",
       "  <thead>\n",
       "    <tr style=\"text-align: right;\">\n",
       "      <th></th>\n",
       "      <th>article_link</th>\n",
       "      <th>headline</th>\n",
       "      <th>is_sarcastic</th>\n",
       "    </tr>\n",
       "  </thead>\n",
       "  <tbody>\n",
       "    <tr>\n",
       "      <th>0</th>\n",
       "      <td>https://www.huffingtonpost.com/entry/versace-b...</td>\n",
       "      <td>former versace store clerk sues over secret 'b...</td>\n",
       "      <td>Not Sarcasm</td>\n",
       "    </tr>\n",
       "    <tr>\n",
       "      <th>1</th>\n",
       "      <td>https://www.huffingtonpost.com/entry/roseanne-...</td>\n",
       "      <td>the 'roseanne' revival catches up to our thorn...</td>\n",
       "      <td>Not Sarcasm</td>\n",
       "    </tr>\n",
       "    <tr>\n",
       "      <th>2</th>\n",
       "      <td>https://local.theonion.com/mom-starting-to-fea...</td>\n",
       "      <td>mom starting to fear son's web series closest ...</td>\n",
       "      <td>Sarcasm</td>\n",
       "    </tr>\n",
       "    <tr>\n",
       "      <th>3</th>\n",
       "      <td>https://politics.theonion.com/boehner-just-wan...</td>\n",
       "      <td>boehner just wants wife to listen, not come up...</td>\n",
       "      <td>Sarcasm</td>\n",
       "    </tr>\n",
       "    <tr>\n",
       "      <th>4</th>\n",
       "      <td>https://www.huffingtonpost.com/entry/jk-rowlin...</td>\n",
       "      <td>j.k. rowling wishes snape happy birthday in th...</td>\n",
       "      <td>Not Sarcasm</td>\n",
       "    </tr>\n",
       "  </tbody>\n",
       "</table>\n",
       "</div>"
      ],
      "text/plain": [
       "                                        article_link  \\\n",
       "0  https://www.huffingtonpost.com/entry/versace-b...   \n",
       "1  https://www.huffingtonpost.com/entry/roseanne-...   \n",
       "2  https://local.theonion.com/mom-starting-to-fea...   \n",
       "3  https://politics.theonion.com/boehner-just-wan...   \n",
       "4  https://www.huffingtonpost.com/entry/jk-rowlin...   \n",
       "\n",
       "                                            headline is_sarcastic  \n",
       "0  former versace store clerk sues over secret 'b...  Not Sarcasm  \n",
       "1  the 'roseanne' revival catches up to our thorn...  Not Sarcasm  \n",
       "2  mom starting to fear son's web series closest ...      Sarcasm  \n",
       "3  boehner just wants wife to listen, not come up...      Sarcasm  \n",
       "4  j.k. rowling wishes snape happy birthday in th...  Not Sarcasm  "
      ]
     },
     "execution_count": 7,
     "metadata": {},
     "output_type": "execute_result"
    }
   ],
   "source": [
    "df = pd.read_json(\"Sarcasm.json\", lines=True)\n",
    "df[\"is_sarcastic\"] = df[\"is_sarcastic\"].map({0: \"Not Sarcasm\", 1: \"Sarcasm\"})\n",
    "\n",
    "df.head()"
   ]
  },
  {
   "cell_type": "code",
   "execution_count": 4,
   "id": "2da9145b-922f-40e2-ad4e-49b953144037",
   "metadata": {},
   "outputs": [
    {
     "data": {
      "text/plain": [
       "(26709, 3)"
      ]
     },
     "execution_count": 4,
     "metadata": {},
     "output_type": "execute_result"
    }
   ],
   "source": [
    "df.shape"
   ]
  },
  {
   "cell_type": "markdown",
   "id": "29f2c342-0186-4882-93af-7a32cdcfb764",
   "metadata": {},
   "source": [
    "### Text Classification Setup with Count Vectorization"
   ]
  },
  {
   "cell_type": "code",
   "execution_count": 10,
   "id": "88006fa8-9191-4175-8942-312e6248ea5f",
   "metadata": {},
   "outputs": [],
   "source": [
    "df = df[['headline', 'is_sarcastic']]\n",
    "\n",
    "x = np.array(df['headline'])\n",
    "y = np.array(df['is_sarcastic'])\n",
    "\n",
    "cv = CountVectorizer()\n",
    "X = cv.fit_transform(x)\n",
    "\n",
    "X_train, X_test, y_train, y_test = train_test_split(X, y, test_size=0.20, random_state=42)"
   ]
  },
  {
   "cell_type": "markdown",
   "id": "8a83e382-0195-43f5-9286-4933eaf8ccf3",
   "metadata": {},
   "source": [
    "### Sentiment Analysis using Bernoulli Naive Bayes Model"
   ]
  },
  {
   "cell_type": "code",
   "execution_count": 12,
   "id": "0f2367f3-b4ab-48f0-bd20-eb80f933b176",
   "metadata": {},
   "outputs": [
    {
     "name": "stdout",
     "output_type": "stream",
     "text": [
      "Accuracy: 84.48%\n"
     ]
    }
   ],
   "source": [
    "model = BernoulliNB()\n",
    "model.fit(X_train, y_train)\n",
    "accuracy = model.score(X_test, y_test)\n",
    "print(f\"Accuracy: {accuracy * 100:.2f}%\")"
   ]
  },
  {
   "cell_type": "markdown",
   "id": "75b0bf4b-9834-4fb9-a6f5-41029932dcce",
   "metadata": {},
   "source": [
    "### Sentiment Prediction for User Input Text"
   ]
  },
  {
   "cell_type": "code",
   "execution_count": 16,
   "id": "5abfb500-2bcb-4ef0-883a-766dbcc16299",
   "metadata": {},
   "outputs": [
    {
     "name": "stdin",
     "output_type": "stream",
     "text": [
      "Enter a Text:  cows lose their jobs as milk prices drop\n"
     ]
    },
    {
     "name": "stdout",
     "output_type": "stream",
     "text": [
      "['Sarcasm']\n"
     ]
    }
   ],
   "source": [
    "user = input(\"Enter a Text: \")\n",
    "df = cv.transform([user]).toarray()\n",
    "output = model.predict(df)\n",
    "print(output)"
   ]
  },
  {
   "cell_type": "code",
   "execution_count": null,
   "id": "017a9383-61de-4c2d-bc5c-3b7f3b3ef651",
   "metadata": {},
   "outputs": [],
   "source": []
  }
 ],
 "metadata": {
  "kernelspec": {
   "display_name": "Python 3 (ipykernel)",
   "language": "python",
   "name": "python3"
  },
  "language_info": {
   "codemirror_mode": {
    "name": "ipython",
    "version": 3
   },
   "file_extension": ".py",
   "mimetype": "text/x-python",
   "name": "python",
   "nbconvert_exporter": "python",
   "pygments_lexer": "ipython3",
   "version": "3.11.4"
  }
 },
 "nbformat": 4,
 "nbformat_minor": 5
}
