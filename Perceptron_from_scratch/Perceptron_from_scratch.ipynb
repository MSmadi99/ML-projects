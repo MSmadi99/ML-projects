{
 "cells": [
  {
   "cell_type": "markdown",
   "id": "3d830829-d6ce-40b8-b4fa-3271ff652830",
   "metadata": {},
   "source": [
    "# Perceptron from Scratch"
   ]
  },
  {
   "cell_type": "code",
   "execution_count": 1,
   "id": "7f21260c-ea36-4da5-bebd-3ca2d97297b4",
   "metadata": {},
   "outputs": [],
   "source": [
    "import numpy as np\n",
    "from sklearn.linear_model import Perceptron\n",
    "from sklearn.metrics import accuracy_score"
   ]
  },
  {
   "cell_type": "code",
   "execution_count": 2,
   "id": "cc468e83-89a3-4b18-8d31-b23b5a9c8a6b",
   "metadata": {},
   "outputs": [],
   "source": [
    "class MyPerceptron(object):\n",
    "    # Define the __init__ method which initialize the object’s attributes \n",
    "    # weights_bias is a numpy array. 1st element is the bias. Remaining elements are the weights.\n",
    "    # iterations is the number of times the process will run to optimize the weights and bias. \n",
    "    # learning_rate is constant that controls the updates.\n",
    "    def __init__(self, weights_bias, iterations=100, learning_rate=0.01):\n",
    "        # Initialize weights_bias, iterations, and learning_rate\n",
    "        self.weights_bias = weights_bias\n",
    "        self.iterations = iterations\n",
    "        self.learning_rate = learning_rate\n",
    "    \n",
    "    # Define a method for predicting the output given one input sample\n",
    "    def predictOne(self, inputs):\n",
    "        # Calculate the weighted sum \n",
    "        summation = self.weights_bias[0] + np.dot(inputs, self.weights_bias[1:])  # bias + (inputs * weight) \n",
    "        # Set the activation value based on the summation result\n",
    "        activation = 1 if summation >= 0 else 0\n",
    "        \n",
    "        return activation\n",
    "    \n",
    "    # Define a method for predicting the output given a numpy array of inputs\n",
    "    def predict(self, training_inputs):\n",
    "        # Using predictOne method, loop through the training_inputs and predict the output \n",
    "        predictions = []\n",
    "        for inputs in training_inputs:\n",
    "            predictions.append(self.predictOne(inputs))\n",
    "        # return a numpy array of the outputs\n",
    "        return np.array(predictions)\n",
    "    # Define a method for training a percepton. \n",
    "    # The weights and bias are updated when the prediction is not correct. \n",
    "    # The process runs based on the defined number of iterations. \n",
    "    def train(self, training_inputs, labels):\n",
    "        # B.4 Loop through the iterations\n",
    "        for i in range(self.iterations):\n",
    "            # Loop through the input and label samples \n",
    "            # zip is to pair each training example with its corresponding label.\n",
    "            #  It creates an iterator that produces tuples, where each tuple contains a training example and its corresponding label.\n",
    "            for inputs, label in zip(training_inputs, labels):\n",
    "                # B.6 Predict the output using the method \"predictOne\"\n",
    "                prediction = self.predictOne(inputs)\n",
    "                # B.7 Update the weights and bias using the perceptron learning rule.\n",
    "                self.weights_bias[1:] += self.learning_rate * (label - prediction) * inputs\n",
    "                self.weights_bias[0] += self.learning_rate * (label - prediction)"
   ]
  },
  {
   "cell_type": "code",
   "execution_count": 3,
   "id": "519299fa-83b5-46ff-a579-6b760426d088",
   "metadata": {},
   "outputs": [],
   "source": [
    "training_data = np.array([[10, 143], [1, 87], [10, 135], [8, 123], [7, 125], [2, 81], [7, 118], \n",
    "                          [3, 92], [1, 85], [8, 148]])\n",
    "labels = np.array([1, 0, 1, 1, 1, 0, 1, 0, 0, 1])"
   ]
  },
  {
   "cell_type": "code",
   "execution_count": 4,
   "id": "d7f55e18-c177-475b-8c74-456c9052f160",
   "metadata": {},
   "outputs": [
    {
     "name": "stdout",
     "output_type": "stream",
     "text": [
      "Custom Perceptron Accuracy: 1.0\n"
     ]
    }
   ],
   "source": [
    "# Create an instance of MyPerceptron with the following parameters:\n",
    "# bias = 0.5, w1 = 0.5, w2 = 0.5, iterations=50, learning_rate=0.2\n",
    "initial_weights_bias = np.array([0.5, 0.5, 0.5])\n",
    "my_perceptron = MyPerceptron(initial_weights_bias, iterations=50, learning_rate=0.2)\n",
    "# Train the perceptron by passing the training_data and labels\n",
    "my_perceptron.train(training_data, labels)\n",
    "# Predict the outputs and calculate the accuracy of the model\n",
    "my_predictions = my_perceptron.predict(training_data)\n",
    "my_accuracy = accuracy_score(labels, my_predictions)\n",
    "print(\"Custom Perceptron Accuracy:\", my_accuracy)"
   ]
  },
  {
   "cell_type": "code",
   "execution_count": 5,
   "id": "7758fd6c-ad73-4caa-84bf-ea38edf2edca",
   "metadata": {},
   "outputs": [
    {
     "name": "stdout",
     "output_type": "stream",
     "text": [
      "Sklearn Perceptron Accuracy: 1.0\n"
     ]
    }
   ],
   "source": [
    "# Create an instance of sklearn Perceptron with the following parameters:\n",
    "# max_iter = 50, eta0 = 0.2, shuffle = False, random_state=1\n",
    "sklearn_perceptron = Perceptron(max_iter=50, eta0=0.2, shuffle=False, random_state=1)\n",
    "# Train the perceptron by passing the training_data and labels\n",
    "sklearn_perceptron.fit(training_data, labels)\n",
    "# Calculate the accuracy of the model\n",
    "sklearn_predictions = sklearn_perceptron.predict(training_data)\n",
    "sklearn_accuracy = accuracy_score(labels, sklearn_predictions)\n",
    "print(\"Sklearn Perceptron Accuracy:\", sklearn_accuracy)"
   ]
  },
  {
   "cell_type": "code",
   "execution_count": null,
   "id": "80f43ecb-a4c9-4a8c-87c3-117385f35e50",
   "metadata": {},
   "outputs": [],
   "source": []
  }
 ],
 "metadata": {
  "kernelspec": {
   "display_name": "Python 3 (ipykernel)",
   "language": "python",
   "name": "python3"
  },
  "language_info": {
   "codemirror_mode": {
    "name": "ipython",
    "version": 3
   },
   "file_extension": ".py",
   "mimetype": "text/x-python",
   "name": "python",
   "nbconvert_exporter": "python",
   "pygments_lexer": "ipython3",
   "version": "3.11.4"
  }
 },
 "nbformat": 4,
 "nbformat_minor": 5
}
