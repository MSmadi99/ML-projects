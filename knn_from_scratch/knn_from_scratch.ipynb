{
 "cells": [
  {
   "cell_type": "markdown",
   "id": "4c2d5d14-706b-454b-bd68-2ea8f6daaf01",
   "metadata": {},
   "source": [
    "# KNN from scratch"
   ]
  },
  {
   "cell_type": "code",
   "execution_count": 1,
   "id": "f292e54f-3502-476b-a624-95329dfe945e",
   "metadata": {},
   "outputs": [],
   "source": [
    "import numpy as np\n",
    "from collections import Counter\n",
    "from sklearn.metrics import accuracy_score"
   ]
  },
  {
   "cell_type": "code",
   "execution_count": 2,
   "id": "ac47ba92-1924-4a6a-bec0-9cff7a280037",
   "metadata": {},
   "outputs": [],
   "source": [
    "class MyKNN(object):\n",
    "    # Define the __init__ method which initialize the object’s attributes \n",
    "    def __init__(self, k=3):\n",
    "        # initialize the number of neighbors k\n",
    "        self.k = k\n",
    "    # Define a method for \"training\" the model\n",
    "    def fit(self, X_train, y_train):\n",
    "        # initialize the training input and output\n",
    "        self.X_train = X_train\n",
    "        self.y_train = y_train\n",
    "    # Define a method to claculate the Euclidean Distance between two numpy arrays\n",
    "    def euclidean_distance(self, v1, v2):\n",
    "        # Caluclate the distance between v1 and v2\n",
    "        return np.sqrt(np.sum((v1 - v2)**2))\n",
    "    # Define a method that predicts the output for one sample\n",
    "    def predictOne(self, x):\n",
    "        # Calculate the distances between x and all samples in the training set\n",
    "        distances = [self.euclidean_distance(x, x_train) for x_train in self.X_train]\n",
    "        # Sort the distance and find the indices of the fist k neighbors (smallest distance)\n",
    "        k_indices = np.argsort(distances)[:self.k]\n",
    "        # Extract the labels of the nearest neighbors\n",
    "        k_nearest_labels = [self.y_train[i] for i in k_indices]\n",
    "        # Find and return the most frequent label using Counter\n",
    "        most_common = Counter(k_nearest_labels).most_common(1)\n",
    "        return most_common[0][0]\n",
    "    \n",
    "    # Define a method that predicts the output given a numpy array of inputs\n",
    "    def predict(self, X):\n",
    "        # Find the predicted label for each element in X\n",
    "        return [self.predictOne(x) for x in X]"
   ]
  },
  {
   "cell_type": "code",
   "execution_count": 3,
   "id": "65ff3d92-7830-46c6-9937-cb74ddd32d41",
   "metadata": {},
   "outputs": [],
   "source": [
    "training_data = np.array([[10, 143], [1, 87], [10, 135], [8, 123], [7, 125], [2, 81], [7, 118], \n",
    "                          [3, 92], [1, 85], [8, 148]])\n",
    "labels = np.array([1, 0, 1, 1, 1, 0, 1, 0, 0, 1])"
   ]
  },
  {
   "cell_type": "code",
   "execution_count": 4,
   "id": "d43aa934-d96a-46ef-b121-90fc2d4f5dfc",
   "metadata": {},
   "outputs": [
    {
     "name": "stdout",
     "output_type": "stream",
     "text": [
      "Custom KNN Accuracy: 1.0\n"
     ]
    }
   ],
   "source": [
    "# Create an instance of MyKNN with number of neighbors 3\n",
    "knn = MyKNN(k=3)\n",
    "# Fit the model by passing the training_data and labels\n",
    "knn.fit(training_data, labels)\n",
    "# Predict the outputs and calculate the accuracy of the model\n",
    "my_predictions = knn.predict(training_data)\n",
    "my_accuracy = accuracy_score(labels, my_predictions)\n",
    "print(\"Custom KNN Accuracy:\", my_accuracy)"
   ]
  },
  {
   "cell_type": "code",
   "execution_count": null,
   "id": "29571737-b0eb-43e5-88f5-43971c660464",
   "metadata": {},
   "outputs": [],
   "source": []
  }
 ],
 "metadata": {
  "kernelspec": {
   "display_name": "Python 3 (ipykernel)",
   "language": "python",
   "name": "python3"
  },
  "language_info": {
   "codemirror_mode": {
    "name": "ipython",
    "version": 3
   },
   "file_extension": ".py",
   "mimetype": "text/x-python",
   "name": "python",
   "nbconvert_exporter": "python",
   "pygments_lexer": "ipython3",
   "version": "3.11.4"
  }
 },
 "nbformat": 4,
 "nbformat_minor": 5
}
